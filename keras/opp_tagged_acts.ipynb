{
 "cells": [
  {
   "cell_type": "markdown",
   "metadata": {
    "editable": true,
    "slideshow": {
     "slide_type": ""
    },
    "tags": []
   },
   "source": [
    "## Introduction\n",
    "The following notes show how to generate a re-usable dataset starting from files generated from openparlamento.it a few years back, and how to use this dataset to generate deep learning models that automatically classify a document (a parliament act).\n",
    "\n",
    "This is a **multi-labels multi-classification** problem, as each document can be classified with more than one label. \n",
    "\n",
    "* The number of documents available is ~80k, they're stored in the ``opp_data/atti`` directory as files within a zipped archive, and csv files.\n",
    "* A limited set (~1000) is extracted randomly and stored on S3 in ``.npz`` format.\n",
    "* The label set is closed and amounts to many hundreds (~700).\n",
    "* All functions used here are defined in the ``utils`` package, that needs to be imported at the beginning of the notebook.\n"
   ]
  },
  {
   "cell_type": "markdown",
   "metadata": {},
   "source": [
    "## Creating a dataset\n",
    "The following section shows how to generate a dataset for the Openparlamento tagged acts from raw data, and publish it to S3, for future usage in deep learning classifier.\n",
    "\n",
    "The dataset extracts ``n_docs`` documents from the set and generates an ``.npz`` data-file and a ``.json`` vocabulary.\n",
    "\n",
    "The dataset contains still *raw* textual data (text content and the taggings) and should be pre-processed and transformed into numerical *tensors* in order to be used in the deep learning models. See [Using a dataset](#Using-a-dataset) section, below."
   ]
  },
  {
   "cell_type": "code",
   "execution_count": 10,
   "metadata": {
    "editable": true,
    "pycharm": {
     "is_executing": false
    },
    "slideshow": {
     "slide_type": ""
    },
    "tags": []
   },
   "outputs": [
    {
     "name": "stderr",
     "output_type": "stream",
     "text": [
      "100%|██████████| 1000/1000 [01:20<00:00, 12.38it/s]\n"
     ]
    },
    {
     "name": "stdout",
     "output_type": "stream",
     "text": [
      "Saving data into ../op/datasets/tagged_acts_16.npz\n",
      "Uploading to s3://opp-datasets/tagged_acts_16.npz\n",
      "Saving vocab into ../op/datasets/tagged_acts_16_vocab.json\n",
      "Uploading to s3://opp-datasets/tagged_acts_16_vocab.json\n"
     ]
    },
    {
     "data": {
      "text/plain": [
       "(('https://opp-datasets.s3.eu-central-1.amazonaws.com/tagged_acts_16.npz',\n",
       "  '4c3556727beb2c4cdd65813327d42b16'),\n",
       " ('https://opp-datasets.s3.eu-central-1.amazonaws.com/tagged_acts_16_vocab.json',\n",
       "  '02826d2948bd04bddfb68e56f44b8ca8'))"
      ]
     },
     "execution_count": 10,
     "metadata": {},
     "output_type": "execute_result"
    }
   ],
   "source": [
    "import os\n",
    "import sys\n",
    "sys.path.append('..')\n",
    "\n",
    "from dotenv import load_dotenv\n",
    "import pandas as pd\n",
    "\n",
    "from op.utils import preprocess_and_save_docs\n",
    "\n",
    "# load secrets from local `.env` file\n",
    "load_dotenv(verbose=False)\n",
    "\n",
    "# this one function will do all\n",
    "preprocess_and_save_docs(\n",
    "    '../op/opp_data/atti/testi.zip', 'tagged_acts_16', \n",
    "    n_docs=1000, \n",
    "    tags_df=pd.read_csv('../op/opp_data/atti/tags.csv'), \n",
    "    tagging_df=pd.read_csv('../op/opp_data/atti/atti_tags.csv'),\n",
    "    cache_path='../op/datasets',\n",
    "    aws_access_key_id=os.getenv('AWS_ACCESS_KEY_ID'),\n",
    "    aws_secret_access_key=os.getenv('AWS_SECRET_ACCESS_KEY')\n",
    "\n",
    ")"
   ]
  },
  {
   "cell_type": "markdown",
   "metadata": {},
   "source": [
    "## Using a dataset\n",
    "The ``load_data_16`` function, loads a training set and a test set of texts with assigned labels. The test set has a default ratio of 0.2 (this can be changed with the ``test_split`` parameters)."
   ]
  },
  {
   "cell_type": "code",
   "execution_count": 52,
   "metadata": {
    "editable": true,
    "slideshow": {
     "slide_type": ""
    },
    "tags": []
   },
   "outputs": [],
   "source": [
    "import sys\n",
    "sys.path.append('..')\n",
    "from op.datasets import opp_tagged_acts\n",
    "(train_texts_raw, train_labels_raw), (test_texts_raw, test_labels_raw) = opp_tagged_acts.load_data_16(test_split=0.25)"
   ]
  },
  {
   "cell_type": "code",
   "execution_count": 53,
   "metadata": {},
   "outputs": [
    {
     "data": {
      "text/plain": [
       "(750, 250)"
      ]
     },
     "execution_count": 53,
     "metadata": {},
     "output_type": "execute_result"
    }
   ],
   "source": [
    "len(train_texts_raw), len(test_texts_raw)"
   ]
  },
  {
   "cell_type": "markdown",
   "metadata": {},
   "source": [
    "## Fetching the vocabulary\n",
    "The *vocabulary* can be fetched with the ``load_vocab_16`` function that returns a ``collections.Counter``, so that the ``most_common`` method can be used to list the most common words.\n",
    "\n",
    "This vocabulary still refers to the **raw** content in the documents.\n",
    "\n",
    "It can be useful during the analysis phase, in order to understand the structure of the data, and whether the most common words should be removed from the documents before being processed by Keras."
   ]
  },
  {
   "cell_type": "code",
   "execution_count": 54,
   "metadata": {},
   "outputs": [],
   "source": [
    "vocab = opp_tagged_acts.load_vocab_16()"
   ]
  },
  {
   "cell_type": "code",
   "execution_count": 55,
   "metadata": {},
   "outputs": [
    {
     "data": {
      "text/plain": [
       "[('articolo', 6082),\n",
       " ('legge', 4533),\n",
       " ('comma', 4403),\n",
       " ('stato', 3181),\n",
       " ('decreto', 2643),\n",
       " ('ministro', 2462),\n",
       " ('ministero', 2129),\n",
       " ('essere', 1883),\n",
       " ('d', 1806),\n",
       " ('attività', 1803),\n",
       " ('art', 1770),\n",
       " ('presente', 1576),\n",
       " ('seguenti', 1434),\n",
       " ('parte', 1432),\n",
       " ('autorità', 1424),\n",
       " ('cp', 1403),\n",
       " ('governo', 1400),\n",
       " ('presidente', 1391),\n",
       " ('cs', 1382),\n",
       " ('quali', 1340),\n",
       " ('europea', 1334),\n",
       " ('consiglio', 1277),\n",
       " ('servizi', 1276),\n",
       " ('euro', 1269),\n",
       " ('disposizioni', 1258),\n",
       " ('nazionale', 1207),\n",
       " ('fine', 1178),\n",
       " ('secondo', 1172),\n",
       " ('economia', 1156),\n",
       " ('commissione', 1155)]"
      ]
     },
     "execution_count": 55,
     "metadata": {},
     "output_type": "execute_result"
    }
   ],
   "source": [
    "vocab.most_common(30)"
   ]
  },
  {
   "cell_type": "markdown",
   "metadata": {},
   "source": [
    "In this case, it seems that the first 20 words does not help in conveying a meaningful sense (they are always used), so they can be removed safely."
   ]
  },
  {
   "cell_type": "markdown",
   "metadata": {},
   "source": [
    "## Vectorization\n",
    "In order to use this data in Keras, they need to be transformed into numerical data, or *Tensors*. This procedure is called **Vectorisation**.\n",
    "\n",
    "My strategy to do this is to pre-process the words in each document, removing the stopwords (italian language), and the most common words, if thy convey no distinct meaning.\n",
    "\n",
    "Stemming is **not** applied at this time and could be applied later, in order to see if the classification improves."
   ]
  },
  {
   "cell_type": "code",
   "execution_count": 56,
   "metadata": {},
   "outputs": [],
   "source": [
    "most_common_words = [x[0] for x in vocab.most_common(20)]"
   ]
  },
  {
   "cell_type": "markdown",
   "metadata": {},
   "source": [
    "Raw data are vectorized, removing the most common words, using only ``teseo`` and ``user`` tags and the ``binary`` mode when transforming the texts into a numpy matrix.\n",
    "See https://github.com/keras-team/keras-preprocessing/blob/master/keras_preprocessing/text.py#L372 for a reference."
   ]
  },
  {
   "cell_type": "code",
   "execution_count": 57,
   "metadata": {},
   "outputs": [],
   "source": [
    "import pandas as pd\n",
    "tags_df=pd.read_csv('../op/opp_data/atti/tags.csv')\n",
    "all_labels = list(tags_df[(tags_df.type == 'teseo') | (tags_df.type == 'user')].id)"
   ]
  },
  {
   "cell_type": "code",
   "execution_count": 58,
   "metadata": {},
   "outputs": [
    {
     "data": {
      "text/plain": [
       "1040"
      ]
     },
     "execution_count": 58,
     "metadata": {},
     "output_type": "execute_result"
    }
   ],
   "source": [
    "len(all_labels)"
   ]
  },
  {
   "cell_type": "code",
   "execution_count": 59,
   "metadata": {
    "editable": true,
    "slideshow": {
     "slide_type": ""
    },
    "tags": []
   },
   "outputs": [
    {
     "name": "stderr",
     "output_type": "stream",
     "text": [
      "[nltk_data] Downloading package punkt to /home/gu/nltk_data...\n",
      "[nltk_data]   Package punkt is already up-to-date!\n",
      "[nltk_data] Downloading package stopwords to /home/gu/nltk_data...\n",
      "[nltk_data]   Package stopwords is already up-to-date!\n",
      "Train texts: 100%|███████████████████████████████████████████████████████████████████████████████████████████████████| 750/750 [00:03<00:00, 235.00it/s]\n",
      "Train labels: 100%|███████████████████████████████████████████████████████████████████████████████████████████████| 750/750 [00:00<00:00, 738954.19it/s]\n",
      "Test texts: 100%|████████████████████████████████████████████████████████████████████████████████████████████████████| 250/250 [00:01<00:00, 232.98it/s]\n",
      "Test labels: 100%|████████████████████████████████████████████████████████████████████████████████████████████████| 250/250 [00:00<00:00, 816012.45it/s]\n"
     ]
    }
   ],
   "source": [
    "import nltk\n",
    "nltk.download('punkt')\n",
    "nltk.download('stopwords')\n",
    "\n",
    "from op.utils import vectorize\n",
    "train_x, train_y, train_labels = vectorize(\n",
    "    train_texts_raw, train_labels_raw, 'Train', \n",
    "    text_to_matrix_mode='binary',\n",
    "    include_tag_types=['user', 'teseo'], \n",
    "    remove_words=most_common_words,\n",
    "    num_words=10000,\n",
    "    all_labels=all_labels\n",
    ")\n",
    "test_x, test_y, test_labels = vectorize(\n",
    "    test_texts_raw, test_labels_raw, 'Test', \n",
    "    text_to_matrix_mode='binary',\n",
    "    include_tag_types=['user', 'teseo'], \n",
    "    remove_words=most_common_words,\n",
    "    num_words=10000,\n",
    "    all_labels=all_labels    \n",
    ")"
   ]
  },
  {
   "cell_type": "markdown",
   "metadata": {},
   "source": [
    "The **raw** datasets contain textual content and the full tag triple (id, name, type)."
   ]
  },
  {
   "cell_type": "code",
   "execution_count": 60,
   "metadata": {
    "scrolled": true
   },
   "outputs": [
    {
     "data": {
      "text/plain": [
       "('',\n",
       " [(561, 'BILANCIO DELLO STATO', 'teseo'),\n",
       "  (1562, 'ECONOMIA', 'teseo'),\n",
       "  (4357, 'tasse e imposte', 'teseo'),\n",
       "  (1298, 'PUBBLICA AMMINISTRAZIONE', 'teseo'),\n",
       "  (577, 'DEBITO PUBBLICO', 'teseo'),\n",
       "  (646, 'SPESA SANITARIA', 'teseo'),\n",
       "  (516, 'salute', 'teseo'),\n",
       "  (1788, 'BANCHE ISTITUTI E AZIENDE DI CREDITO', 'teseo'),\n",
       "  (16223, 'FINANZA', 'user'),\n",
       "  (578, 'TITOLI DI STATO', 'teseo'),\n",
       "  (1851, 'UNIONE EUROPEA', 'teseo'),\n",
       "  (1674, 'DONNE', 'teseo'),\n",
       "  (256, \"SOCIETA'\", 'teseo'),\n",
       "  (1602, 'ELEZIONI POLITICHE', 'teseo'),\n",
       "  (1600, 'ELEZIONI AMMINISTRATIVE', 'teseo'),\n",
       "  (1601, 'ELEZIONI EUROPEE', 'teseo'),\n",
       "  (16213, 'POLITICA', 'user'),\n",
       "  (1194, 'REFERENDUM', 'teseo'),\n",
       "  (7791, 'ORDINE E SICUREZZA PUBBLICA', 'teseo'),\n",
       "  (174, 'mutui e prestiti bancari', 'teseo'),\n",
       "  (56, 'GUARDIA DI FINANZA', 'teseo'),\n",
       "  (53, 'FORZE ARMATE', 'teseo'),\n",
       "  (5757, 'monopoli di stato', 'teseo'),\n",
       "  (16202, 'STATO', 'user'),\n",
       "  (16217, 'ricerca', 'user'),\n",
       "  (1578, 'IMPRESE', 'teseo'),\n",
       "  (1407, 'SERVIZI PUBBLICI', 'teseo'),\n",
       "  (1542, 'CONSUMATORI E UTENTI', 'teseo'),\n",
       "  (15913, 'investimenti pubblici', 'user'),\n",
       "  (1450, 'REGIONI', 'teseo'),\n",
       "  (15907, 'federalismo fiscale', 'user'),\n",
       "  (939, 'LAVORO', 'teseo'),\n",
       "  (4305, 'sviluppo economico', 'teseo'),\n",
       "  (708, 'INDUSTRIA', 'teseo'),\n",
       "  (8002, 'Istituto nazionale per il Commercio estero (ICE)', 'user'),\n",
       "  (313, 'COOPERAZIONE INTERNAZIONALE', 'teseo'),\n",
       "  (1685, 'ASSISTENZA SOCIALE', 'teseo'),\n",
       "  (5351, 'giustizia', 'teseo'),\n",
       "  (103, 'DIRITTO', 'teseo'),\n",
       "  (130, 'DIRITTO CIVILE', 'teseo'),\n",
       "  (325, 'DIRITTO PENALE', 'teseo'),\n",
       "  (497, 'DETENUTI', 'teseo'),\n",
       "  (487, 'carceri e ordinamento penitenziario', 'teseo'),\n",
       "  (2188, 'comitato olimpico nazionale italiano ( coni )', 'teseo'),\n",
       "  (23, 'SPORT', 'teseo'),\n",
       "  (1422, 'ENTI LOCALI', 'teseo'),\n",
       "  (1624, 'POLITICA ESTERA', 'teseo'),\n",
       "  (1266, 'AGRICOLTURA', 'teseo'),\n",
       "  (904, 'SCUOLA', 'teseo'),\n",
       "  (6812, 'ambasciate e consolati', 'teseo'),\n",
       "  (664, 'CENTRI E ISTITUTI CULTURALI E ARTISTICI', 'teseo'),\n",
       "  (16220, 'CULTURA E SPETTACOLO', 'user'),\n",
       "  (4653, 'cooperazione allo sviluppo', 'teseo'),\n",
       "  (892, \"UNIVERSITA'\", 'teseo'),\n",
       "  (938, 'MENSE SCOLASTICHE', 'teseo'),\n",
       "  (911, 'insegnanti della scuola', 'teseo'),\n",
       "  (653, 'RICERCA SCIENTIFICA E TECNOLOGICA', 'teseo'),\n",
       "  (1158, 'VIGILI DEL FUOCO', 'teseo'),\n",
       "  (1885, 'CENTRI E IMPIANTI SPORTIVI', 'teseo'),\n",
       "  (1325, 'POLIZIA DI STATO', 'teseo'),\n",
       "  (1517, 'RELIGIONI', 'teseo'),\n",
       "  (1866, 'CHIESE ED EDIFICI DI CULTO', 'teseo'),\n",
       "  (16224, 'CITTADINANZA E IMMIGRAZIONE', 'user'),\n",
       "  (1439, 'PROVINCE', 'teseo'),\n",
       "  (16215, 'AMBIENTE E TERRITORIO', 'user'),\n",
       "  (1812, 'TRASPORTI', 'teseo'),\n",
       "  (63, 'MARINA MILITARE', 'teseo'),\n",
       "  (802, 'PORTI', 'teseo'),\n",
       "  (52, 'caserme basi e istallazioni militari', 'teseo'),\n",
       "  (57, 'esercito italiano', 'teseo'),\n",
       "  (54, 'AERONAUTICA MILITARE', 'teseo'),\n",
       "  (58, 'ARMA DEI CARABINIERI', 'teseo'),\n",
       "  (2260,\n",
       "   \"ORGANIZZAZIONE DEL TRATTATO DELL' ATLANTICO DEL NORD (NATO)\",\n",
       "   'teseo'),\n",
       "  (1288, 'pesca e acquacoltura', 'teseo'),\n",
       "  (6199, 'corpo forestale dello stato (cfs)', 'teseo'),\n",
       "  (4690, 'finanziamenti pubblici', 'teseo'),\n",
       "  (16696, 'aa2012', 'op_geo')])"
      ]
     },
     "execution_count": 60,
     "metadata": {},
     "output_type": "execute_result"
    }
   ],
   "source": [
    "import random\n",
    "i = random.choice(range(len(train_texts_raw)))\n",
    "train_texts_raw[i][:1000], train_labels_raw[i]"
   ]
  },
  {
   "cell_type": "markdown",
   "metadata": {},
   "source": [
    "While the **processed** ones are tensors."
   ]
  },
  {
   "cell_type": "code",
   "execution_count": 61,
   "metadata": {
    "scrolled": true
   },
   "outputs": [
    {
     "data": {
      "text/plain": [
       "(array([0., 0., 0., ..., 0., 0., 0.]),\n",
       " array([0, 0, 0, 0, 0, 0, 1, 0, 0, 0, 1, 1, 1, 1, 1, 1, 1, 0, 0, 0, 1, 1,\n",
       "        0, 0, 0, 0, 0, 1, 0, 0, 0, 0, 0, 1, 0, 0, 0, 1, 0, 0, 1, 0, 0, 0,\n",
       "        0, 0, 0, 0, 0, 0, 0, 1, 1, 0, 0, 0, 0, 0, 1, 0, 0, 0, 0, 0, 0, 0,\n",
       "        0, 1, 0, 0, 0, 0, 0, 1, 1, 0, 0, 0, 0, 0, 1, 0, 1, 0, 1, 0, 0, 0,\n",
       "        0, 0, 0, 1, 0, 0, 0, 0, 0, 0, 0, 0, 0, 0, 0, 0, 0, 0, 0, 0, 0, 0,\n",
       "        1, 0, 0, 0, 0, 0, 0, 0, 0, 0, 0, 0, 0, 0, 0, 0, 0, 1, 0, 0, 1, 1,\n",
       "        0, 0, 0, 0, 1, 1, 0, 0, 0, 0, 0, 0, 0, 0, 0, 0, 0, 0, 0, 0, 0, 0,\n",
       "        0, 0, 0, 0, 0, 0, 0, 0, 0, 0, 0, 0, 0, 0, 0, 0, 0, 0, 0, 0, 0, 0,\n",
       "        0, 0, 0, 0, 0, 0, 1, 0, 0, 0, 0, 0, 0, 0, 0, 0, 1, 0, 0, 0, 0, 0,\n",
       "        0, 0, 0, 0, 0, 1, 0, 0, 0, 0, 0, 0, 1, 0, 0, 1, 0, 0, 0, 0, 0, 1,\n",
       "        0, 0, 0, 0, 0, 0, 0, 0, 0, 0, 0, 0, 0, 1, 0, 1, 0, 0, 0, 0, 0, 0,\n",
       "        1, 0, 0, 1, 0, 0, 0, 0, 1, 0, 0, 0, 1, 0, 0, 0, 0, 0, 0, 1, 0, 0,\n",
       "        0, 1, 0, 0, 1, 1, 1, 0, 0, 0, 0, 0, 0, 0, 0, 0, 1, 0, 0, 0, 0, 0,\n",
       "        0, 0, 0, 0, 0, 0, 0, 1, 0, 1, 0, 0, 0, 0, 0, 0, 0, 0, 0, 1, 0, 0,\n",
       "        0, 1, 0, 0, 0, 0, 0, 0, 0, 0, 1, 0, 0, 0, 0, 1, 0, 0, 0, 0, 0, 1,\n",
       "        0, 0, 0, 0, 0, 0, 0, 0, 0, 1, 0, 0, 0, 1, 0, 0, 0, 0, 0, 0, 0, 0,\n",
       "        0, 0, 0, 0, 0, 0, 0, 0, 0, 0, 0, 0, 0, 1, 0, 0, 0, 0, 1, 0, 0, 0,\n",
       "        0, 0, 0, 0, 0, 0, 0, 0, 0, 0, 0, 0, 0, 0, 0, 0, 0, 1, 0, 0, 0, 1,\n",
       "        0, 0, 0, 0, 0, 0, 0, 0, 0, 0, 0, 0, 0, 0, 0, 0, 0, 0, 0, 0, 0, 0,\n",
       "        0, 0, 0, 0, 0, 0, 0, 0, 0, 0, 0, 0, 0, 0, 0, 0, 0, 0, 0, 0, 1, 0,\n",
       "        0, 0, 0, 0, 0, 0, 0, 0, 0, 0, 0, 0, 0, 0, 0, 0, 0, 0, 0, 0, 0, 0,\n",
       "        0, 1, 0, 0, 0, 0, 0, 0, 0, 0, 0, 0, 0, 0, 0, 0, 0, 0, 0, 0, 1, 0,\n",
       "        0, 0, 0, 0, 0, 0, 0, 0, 0, 0, 0, 0, 0, 0, 0, 0, 1, 0, 0, 0, 0, 0,\n",
       "        0, 0, 0, 0, 0, 0, 0, 0, 0, 0, 0, 0, 0, 0, 0, 0, 0, 0, 0, 0, 0, 0,\n",
       "        0, 0, 0, 1, 0, 0, 0, 1, 0, 0, 0, 0, 0, 0, 0, 0, 0, 0, 0, 0, 1, 0,\n",
       "        1, 0, 0, 0, 0, 0, 0, 0, 0, 0, 0, 0, 0, 0, 0, 0, 0, 0, 0, 0, 0, 0,\n",
       "        0, 0, 0, 0, 0, 1, 0, 0, 0, 0, 0, 0, 1, 1, 0, 1, 1, 0, 0, 1, 1, 0,\n",
       "        0, 0, 0, 0]),\n",
       " [561,\n",
       "  1562,\n",
       "  4357,\n",
       "  1298,\n",
       "  577,\n",
       "  646,\n",
       "  516,\n",
       "  1788,\n",
       "  16223,\n",
       "  578,\n",
       "  1851,\n",
       "  1674,\n",
       "  256,\n",
       "  1602,\n",
       "  1600,\n",
       "  1601,\n",
       "  16213,\n",
       "  1194,\n",
       "  7791,\n",
       "  174,\n",
       "  56,\n",
       "  53,\n",
       "  5757,\n",
       "  16202,\n",
       "  16217,\n",
       "  1578,\n",
       "  1407,\n",
       "  1542,\n",
       "  15913,\n",
       "  1450,\n",
       "  15907,\n",
       "  939,\n",
       "  4305,\n",
       "  708,\n",
       "  8002,\n",
       "  313,\n",
       "  1685,\n",
       "  5351,\n",
       "  103,\n",
       "  130,\n",
       "  325,\n",
       "  497,\n",
       "  487,\n",
       "  2188,\n",
       "  23,\n",
       "  1422,\n",
       "  1624,\n",
       "  1266,\n",
       "  904,\n",
       "  6812,\n",
       "  664,\n",
       "  16220,\n",
       "  4653,\n",
       "  892,\n",
       "  938,\n",
       "  911,\n",
       "  653,\n",
       "  1158,\n",
       "  1885,\n",
       "  1325,\n",
       "  1517,\n",
       "  1866,\n",
       "  16224,\n",
       "  1439,\n",
       "  16215,\n",
       "  1812,\n",
       "  63,\n",
       "  802,\n",
       "  52,\n",
       "  57,\n",
       "  54,\n",
       "  58,\n",
       "  2260,\n",
       "  1288,\n",
       "  6199,\n",
       "  4690])"
      ]
     },
     "execution_count": 61,
     "metadata": {},
     "output_type": "execute_result"
    }
   ],
   "source": [
    "train_x[i], train_y[i], train_labels[i]"
   ]
  },
  {
   "cell_type": "code",
   "execution_count": 62,
   "metadata": {},
   "outputs": [
    {
     "data": {
      "text/plain": [
       "((750, 10000), (750, 598))"
      ]
     },
     "execution_count": 62,
     "metadata": {},
     "output_type": "execute_result"
    }
   ],
   "source": [
    "train_x.shape, train_y.shape"
   ]
  },
  {
   "cell_type": "code",
   "execution_count": 63,
   "metadata": {},
   "outputs": [
    {
     "data": {
      "text/plain": [
       "((250, 10000), (250, 415))"
      ]
     },
     "execution_count": 63,
     "metadata": {},
     "output_type": "execute_result"
    }
   ],
   "source": [
    "test_x.shape, test_y.shape"
   ]
  },
  {
   "cell_type": "markdown",
   "metadata": {},
   "source": [
    "## Deep learning model\n",
    "\n",
    "The vectorized data can be now used to train and validate a deep learning model. \n",
    "\n",
    "First the ``plot_history`` utility function is imported, in order to plot the model's performances."
   ]
  },
  {
   "cell_type": "code",
   "execution_count": 64,
   "metadata": {},
   "outputs": [],
   "source": [
    "from op.utils import plot_history"
   ]
  },
  {
   "cell_type": "markdown",
   "metadata": {},
   "source": [
    "The training dataset is splitted. Out of 800 samples, 700 are used to train the model and 100 is kept for validation.\n",
    "It is **important** that test data are not used for this purpose."
   ]
  },
  {
   "cell_type": "code",
   "execution_count": 29,
   "metadata": {},
   "outputs": [],
   "source": [
    "x_val = train_x[:100]\n",
    "partial_train_x = train_x[100:]\n",
    "y_val = train_y[:100]\n",
    "partial_train_y = train_y[100:]"
   ]
  },
  {
   "cell_type": "markdown",
   "metadata": {},
   "source": [
    "This example model has a 2 256-nodes layers architecture, with 29492 input nodes, and 617 output nodes.\n",
    "\n",
    "The activation and loss function used are suggested for our case of **multi-label multi-classification**.\n",
    "\n",
    "The model is trained for 10 epochs."
   ]
  },
  {
   "cell_type": "code",
   "execution_count": 36,
   "metadata": {},
   "outputs": [
    {
     "name": "stdout",
     "output_type": "stream",
     "text": [
      "Epoch 1/10\n",
      "6/6 [==============================] - 0s 30ms/step - loss: 0.6297 - accuracy: 0.0014 - val_loss: 0.4232 - val_accuracy: 0.0000e+00\n",
      "Epoch 2/10\n",
      "6/6 [==============================] - 0s 20ms/step - loss: 0.2675 - accuracy: 0.0000e+00 - val_loss: 0.1109 - val_accuracy: 0.0000e+00\n",
      "Epoch 3/10\n",
      "6/6 [==============================] - 0s 22ms/step - loss: 0.1473 - accuracy: 0.0300 - val_loss: 0.0977 - val_accuracy: 0.0600\n",
      "Epoch 4/10\n",
      "6/6 [==============================] - 0s 26ms/step - loss: 0.1344 - accuracy: 0.0414 - val_loss: 0.0932 - val_accuracy: 0.0500\n",
      "Epoch 5/10\n",
      "6/6 [==============================] - 0s 21ms/step - loss: 0.1093 - accuracy: 0.0271 - val_loss: 0.0884 - val_accuracy: 0.0000e+00\n",
      "Epoch 6/10\n",
      "6/6 [==============================] - 0s 21ms/step - loss: 0.0866 - accuracy: 0.0829 - val_loss: 0.0851 - val_accuracy: 0.0100\n",
      "Epoch 7/10\n",
      "6/6 [==============================] - 0s 20ms/step - loss: 0.0768 - accuracy: 0.0571 - val_loss: 0.0794 - val_accuracy: 0.0400\n",
      "Epoch 8/10\n",
      "6/6 [==============================] - 0s 21ms/step - loss: 0.0666 - accuracy: 0.0929 - val_loss: 0.0719 - val_accuracy: 0.0600\n",
      "Epoch 9/10\n",
      "6/6 [==============================] - 0s 20ms/step - loss: 0.0596 - accuracy: 0.1014 - val_loss: 0.0681 - val_accuracy: 0.0100\n",
      "Epoch 10/10\n",
      "6/6 [==============================] - 0s 25ms/step - loss: 0.0553 - accuracy: 0.0929 - val_loss: 0.0655 - val_accuracy: 0.0300\n"
     ]
    }
   ],
   "source": [
    "from keras import models\n",
    "from keras import layers\n",
    "model = models.Sequential()\n",
    "model.add(layers.Dense(256, activation='relu', input_shape=(10000,))) \n",
    "model.add(layers.Dense(256, activation='relu')) \n",
    "model.add(layers.Dense(617, activation='sigmoid'))\n",
    "model.compile(optimizer='adam', loss='binary_crossentropy', metrics=['accuracy'])\n",
    "\n",
    "history_1 = model.fit(partial_train_x, partial_train_y,\n",
    "    epochs=10,\n",
    "    batch_size=128,\n",
    "    validation_data=(x_val, y_val)\n",
    ")"
   ]
  },
  {
   "cell_type": "markdown",
   "metadata": {},
   "source": [
    "The results are shown, and it seems that the performance goes up to almos 99"
   ]
  },
  {
   "cell_type": "code",
   "execution_count": 37,
   "metadata": {},
   "outputs": [
    {
     "data": {
      "image/png": "[encoded data removed]",
      "text/plain": [
       "<Figure size 1400x400 with 2 Axes>"
      ]
     },
     "metadata": {},
     "output_type": "display_data"
    }
   ],
   "source": [
    "plot_history(history_1, title=\"2 layers: 30k|256|256|617\")"
   ]
  },
  {
   "cell_type": "markdown",
   "metadata": {},
   "source": [
    "The model can then be trained using all train data and tested again the test dataset, in order to compute its overall performances. "
   ]
  },
  {
   "cell_type": "code",
   "execution_count": 38,
   "metadata": {},
   "outputs": [
    {
     "name": "stdout",
     "output_type": "stream",
     "text": [
      "Epoch 1/6\n",
      "7/7 [==============================] - 0s 17ms/step - loss: 0.0534 - accuracy: 0.1275\n",
      "Epoch 2/6\n",
      "7/7 [==============================] - 0s 15ms/step - loss: 0.0504 - accuracy: 0.1163\n",
      "Epoch 3/6\n",
      "7/7 [==============================] - 0s 14ms/step - loss: 0.0476 - accuracy: 0.0913\n",
      "Epoch 4/6\n",
      "7/7 [==============================] - 0s 15ms/step - loss: 0.0453 - accuracy: 0.1150\n",
      "Epoch 5/6\n",
      "7/7 [==============================] - 0s 18ms/step - loss: 0.0432 - accuracy: 0.1375\n",
      "Epoch 6/6\n",
      "7/7 [==============================] - 0s 19ms/step - loss: 0.0414 - accuracy: 0.1425\n"
     ]
    }
   ],
   "source": [
    "history = model.fit(train_x, train_y,\n",
    "    epochs=6,\n",
    "    batch_size=128\n",
    ")"
   ]
  },
  {
   "cell_type": "code",
   "execution_count": 39,
   "metadata": {},
   "outputs": [
    {
     "name": "stderr",
     "output_type": "stream",
     "text": [
      "2023-06-21 06:59:58.409833: I tensorflow/core/common_runtime/executor.cc:1197] [/job:localhost/replica:0/task:0/device:CPU:0] (DEBUG INFO) Executor start aborting (this does not indicate an error and you can ignore this message): INVALID_ARGUMENT: Incompatible shapes: [32,341] vs. [32,617]\n",
      "\t [[{{node binary_crossentropy/logistic_loss/mul}}]]\n"
     ]
    },
    {
     "ename": "InvalidArgumentError",
     "evalue": "Graph execution error:\n\nDetected at node 'binary_crossentropy/logistic_loss/mul' defined at (most recent call last):\n    File \"<frozen runpy>\", line 198, in _run_module_as_main\n    File \"<frozen runpy>\", line 88, in _run_code\n    File \"/home/gu/Workspace/jupyter-notebooks/venv/lib/python3.11/site-packages/ipykernel_launcher.py\", line 17, in <module>\n      app.launch_new_instance()\n    File \"/home/gu/Workspace/jupyter-notebooks/venv/lib/python3.11/site-packages/traitlets/config/application.py\", line 1043, in launch_instance\n      app.start()\n    File \"/home/gu/Workspace/jupyter-notebooks/venv/lib/python3.11/site-packages/ipykernel/kernelapp.py\", line 725, in start\n      self.io_loop.start()\n    File \"/home/gu/Workspace/jupyter-notebooks/venv/lib/python3.11/site-packages/tornado/platform/asyncio.py\", line 195, in start\n      self.asyncio_loop.run_forever()\n    File \"/home/gu/.pyenv/versions/3.11.1/lib/python3.11/asyncio/base_events.py\", line 607, in run_forever\n      self._run_once()\n    File \"/home/gu/.pyenv/versions/3.11.1/lib/python3.11/asyncio/base_events.py\", line 1919, in _run_once\n      handle._run()\n    File \"/home/gu/.pyenv/versions/3.11.1/lib/python3.11/asyncio/events.py\", line 80, in _run\n      self._context.run(self._callback, *self._args)\n    File \"/home/gu/Workspace/jupyter-notebooks/venv/lib/python3.11/site-packages/ipykernel/kernelbase.py\", line 513, in dispatch_queue\n      await self.process_one()\n    File \"/home/gu/Workspace/jupyter-notebooks/venv/lib/python3.11/site-packages/ipykernel/kernelbase.py\", line 502, in process_one\n      await dispatch(*args)\n    File \"/home/gu/Workspace/jupyter-notebooks/venv/lib/python3.11/site-packages/ipykernel/kernelbase.py\", line 409, in dispatch_shell\n      await result\n    File \"/home/gu/Workspace/jupyter-notebooks/venv/lib/python3.11/site-packages/ipykernel/kernelbase.py\", line 729, in execute_request\n      reply_content = await reply_content\n    File \"/home/gu/Workspace/jupyter-notebooks/venv/lib/python3.11/site-packages/ipykernel/ipkernel.py\", line 422, in do_execute\n      res = shell.run_cell(\n    File \"/home/gu/Workspace/jupyter-notebooks/venv/lib/python3.11/site-packages/ipykernel/zmqshell.py\", line 540, in run_cell\n      return super().run_cell(*args, **kwargs)\n    File \"/home/gu/Workspace/jupyter-notebooks/venv/lib/python3.11/site-packages/IPython/core/interactiveshell.py\", line 3009, in run_cell\n      result = self._run_cell(\n    File \"/home/gu/Workspace/jupyter-notebooks/venv/lib/python3.11/site-packages/IPython/core/interactiveshell.py\", line 3064, in _run_cell\n      result = runner(coro)\n    File \"/home/gu/Workspace/jupyter-notebooks/venv/lib/python3.11/site-packages/IPython/core/async_helpers.py\", line 129, in _pseudo_sync_runner\n      coro.send(None)\n    File \"/home/gu/Workspace/jupyter-notebooks/venv/lib/python3.11/site-packages/IPython/core/interactiveshell.py\", line 3269, in run_cell_async\n      has_raised = await self.run_ast_nodes(code_ast.body, cell_name,\n    File \"/home/gu/Workspace/jupyter-notebooks/venv/lib/python3.11/site-packages/IPython/core/interactiveshell.py\", line 3448, in run_ast_nodes\n      if await self.run_code(code, result, async_=asy):\n    File \"/home/gu/Workspace/jupyter-notebooks/venv/lib/python3.11/site-packages/IPython/core/interactiveshell.py\", line 3508, in run_code\n      exec(code_obj, self.user_global_ns, self.user_ns)\n    File \"/tmp/ipykernel_141827/2431662890.py\", line 1, in <module>\n      results = model.evaluate(test_x, test_y)\n    File \"/home/gu/Workspace/jupyter-notebooks/venv/lib/python3.11/site-packages/keras/utils/traceback_utils.py\", line 65, in error_handler\n      return fn(*args, **kwargs)\n    File \"/home/gu/Workspace/jupyter-notebooks/venv/lib/python3.11/site-packages/keras/engine/training.py\", line 2072, in evaluate\n      tmp_logs = self.test_function(iterator)\n    File \"/home/gu/Workspace/jupyter-notebooks/venv/lib/python3.11/site-packages/keras/engine/training.py\", line 1852, in test_function\n      return step_function(self, iterator)\n    File \"/home/gu/Workspace/jupyter-notebooks/venv/lib/python3.11/site-packages/keras/engine/training.py\", line 1836, in step_function\n      outputs = model.distribute_strategy.run(run_step, args=(data,))\n    File \"/home/gu/Workspace/jupyter-notebooks/venv/lib/python3.11/site-packages/keras/engine/training.py\", line 1824, in run_step\n      outputs = model.test_step(data)\n    File \"/home/gu/Workspace/jupyter-notebooks/venv/lib/python3.11/site-packages/keras/engine/training.py\", line 1790, in test_step\n      self.compute_loss(x, y, y_pred, sample_weight)\n    File \"/home/gu/Workspace/jupyter-notebooks/venv/lib/python3.11/site-packages/keras/engine/training.py\", line 1109, in compute_loss\n      return self.compiled_loss(\n    File \"/home/gu/Workspace/jupyter-notebooks/venv/lib/python3.11/site-packages/keras/engine/compile_utils.py\", line 265, in __call__\n      loss_value = loss_obj(y_t, y_p, sample_weight=sw)\n    File \"/home/gu/Workspace/jupyter-notebooks/venv/lib/python3.11/site-packages/keras/losses.py\", line 142, in __call__\n      losses = call_fn(y_true, y_pred)\n    File \"/home/gu/Workspace/jupyter-notebooks/venv/lib/python3.11/site-packages/keras/losses.py\", line 268, in call\n      return ag_fn(y_true, y_pred, **self._fn_kwargs)\n    File \"/home/gu/Workspace/jupyter-notebooks/venv/lib/python3.11/site-packages/keras/losses.py\", line 2156, in binary_crossentropy\n      backend.binary_crossentropy(y_true, y_pred, from_logits=from_logits),\n    File \"/home/gu/Workspace/jupyter-notebooks/venv/lib/python3.11/site-packages/keras/backend.py\", line 5707, in binary_crossentropy\n      return tf.nn.sigmoid_cross_entropy_with_logits(\nNode: 'binary_crossentropy/logistic_loss/mul'\nIncompatible shapes: [32,341] vs. [32,617]\n\t [[{{node binary_crossentropy/logistic_loss/mul}}]] [Op:__inference_test_function_4519]",
     "output_type": "error",
     "traceback": [
      "\u001b[0;31m---------------------------------------------------------------------------\u001b[0m",
      "\u001b[0;31mInvalidArgumentError\u001b[0m                      Traceback (most recent call last)",
      "Cell \u001b[0;32mIn[39], line 1\u001b[0m\n\u001b[0;32m----> 1\u001b[0m results \u001b[38;5;241m=\u001b[39m \u001b[43mmodel\u001b[49m\u001b[38;5;241;43m.\u001b[39;49m\u001b[43mevaluate\u001b[49m\u001b[43m(\u001b[49m\u001b[43mtest_x\u001b[49m\u001b[43m,\u001b[49m\u001b[43m \u001b[49m\u001b[43mtest_y\u001b[49m\u001b[43m)\u001b[49m\n\u001b[1;32m      2\u001b[0m results\n",
      "File \u001b[0;32m~/Workspace/jupyter-notebooks/venv/lib/python3.11/site-packages/keras/utils/traceback_utils.py:70\u001b[0m, in \u001b[0;36mfilter_traceback.<locals>.error_handler\u001b[0;34m(*args, **kwargs)\u001b[0m\n\u001b[1;32m     67\u001b[0m     filtered_tb \u001b[38;5;241m=\u001b[39m _process_traceback_frames(e\u001b[38;5;241m.\u001b[39m__traceback__)\n\u001b[1;32m     68\u001b[0m     \u001b[38;5;66;03m# To get the full stack trace, call:\u001b[39;00m\n\u001b[1;32m     69\u001b[0m     \u001b[38;5;66;03m# `tf.debugging.disable_traceback_filtering()`\u001b[39;00m\n\u001b[0;32m---> 70\u001b[0m     \u001b[38;5;28;01mraise\u001b[39;00m e\u001b[38;5;241m.\u001b[39mwith_traceback(filtered_tb) \u001b[38;5;28;01mfrom\u001b[39;00m \u001b[38;5;28;01mNone\u001b[39;00m\n\u001b[1;32m     71\u001b[0m \u001b[38;5;28;01mfinally\u001b[39;00m:\n\u001b[1;32m     72\u001b[0m     \u001b[38;5;28;01mdel\u001b[39;00m filtered_tb\n",
      "File \u001b[0;32m~/Workspace/jupyter-notebooks/venv/lib/python3.11/site-packages/tensorflow/python/eager/execute.py:52\u001b[0m, in \u001b[0;36mquick_execute\u001b[0;34m(op_name, num_outputs, inputs, attrs, ctx, name)\u001b[0m\n\u001b[1;32m     50\u001b[0m \u001b[38;5;28;01mtry\u001b[39;00m:\n\u001b[1;32m     51\u001b[0m   ctx\u001b[38;5;241m.\u001b[39mensure_initialized()\n\u001b[0;32m---> 52\u001b[0m   tensors \u001b[38;5;241m=\u001b[39m pywrap_tfe\u001b[38;5;241m.\u001b[39mTFE_Py_Execute(ctx\u001b[38;5;241m.\u001b[39m_handle, device_name, op_name,\n\u001b[1;32m     53\u001b[0m                                       inputs, attrs, num_outputs)\n\u001b[1;32m     54\u001b[0m \u001b[38;5;28;01mexcept\u001b[39;00m core\u001b[38;5;241m.\u001b[39m_NotOkStatusException \u001b[38;5;28;01mas\u001b[39;00m e:\n\u001b[1;32m     55\u001b[0m   \u001b[38;5;28;01mif\u001b[39;00m name \u001b[38;5;129;01mis\u001b[39;00m \u001b[38;5;129;01mnot\u001b[39;00m \u001b[38;5;28;01mNone\u001b[39;00m:\n",
      "\u001b[0;31mInvalidArgumentError\u001b[0m: Graph execution error:\n\nDetected at node 'binary_crossentropy/logistic_loss/mul' defined at (most recent call last):\n    File \"<frozen runpy>\", line 198, in _run_module_as_main\n    File \"<frozen runpy>\", line 88, in _run_code\n    File \"/home/gu/Workspace/jupyter-notebooks/venv/lib/python3.11/site-packages/ipykernel_launcher.py\", line 17, in <module>\n      app.launch_new_instance()\n    File \"/home/gu/Workspace/jupyter-notebooks/venv/lib/python3.11/site-packages/traitlets/config/application.py\", line 1043, in launch_instance\n      app.start()\n    File \"/home/gu/Workspace/jupyter-notebooks/venv/lib/python3.11/site-packages/ipykernel/kernelapp.py\", line 725, in start\n      self.io_loop.start()\n    File \"/home/gu/Workspace/jupyter-notebooks/venv/lib/python3.11/site-packages/tornado/platform/asyncio.py\", line 195, in start\n      self.asyncio_loop.run_forever()\n    File \"/home/gu/.pyenv/versions/3.11.1/lib/python3.11/asyncio/base_events.py\", line 607, in run_forever\n      self._run_once()\n    File \"/home/gu/.pyenv/versions/3.11.1/lib/python3.11/asyncio/base_events.py\", line 1919, in _run_once\n      handle._run()\n    File \"/home/gu/.pyenv/versions/3.11.1/lib/python3.11/asyncio/events.py\", line 80, in _run\n      self._context.run(self._callback, *self._args)\n    File \"/home/gu/Workspace/jupyter-notebooks/venv/lib/python3.11/site-packages/ipykernel/kernelbase.py\", line 513, in dispatch_queue\n      await self.process_one()\n    File \"/home/gu/Workspace/jupyter-notebooks/venv/lib/python3.11/site-packages/ipykernel/kernelbase.py\", line 502, in process_one\n      await dispatch(*args)\n    File \"/home/gu/Workspace/jupyter-notebooks/venv/lib/python3.11/site-packages/ipykernel/kernelbase.py\", line 409, in dispatch_shell\n      await result\n    File \"/home/gu/Workspace/jupyter-notebooks/venv/lib/python3.11/site-packages/ipykernel/kernelbase.py\", line 729, in execute_request\n      reply_content = await reply_content\n    File \"/home/gu/Workspace/jupyter-notebooks/venv/lib/python3.11/site-packages/ipykernel/ipkernel.py\", line 422, in do_execute\n      res = shell.run_cell(\n    File \"/home/gu/Workspace/jupyter-notebooks/venv/lib/python3.11/site-packages/ipykernel/zmqshell.py\", line 540, in run_cell\n      return super().run_cell(*args, **kwargs)\n    File \"/home/gu/Workspace/jupyter-notebooks/venv/lib/python3.11/site-packages/IPython/core/interactiveshell.py\", line 3009, in run_cell\n      result = self._run_cell(\n    File \"/home/gu/Workspace/jupyter-notebooks/venv/lib/python3.11/site-packages/IPython/core/interactiveshell.py\", line 3064, in _run_cell\n      result = runner(coro)\n    File \"/home/gu/Workspace/jupyter-notebooks/venv/lib/python3.11/site-packages/IPython/core/async_helpers.py\", line 129, in _pseudo_sync_runner\n      coro.send(None)\n    File \"/home/gu/Workspace/jupyter-notebooks/venv/lib/python3.11/site-packages/IPython/core/interactiveshell.py\", line 3269, in run_cell_async\n      has_raised = await self.run_ast_nodes(code_ast.body, cell_name,\n    File \"/home/gu/Workspace/jupyter-notebooks/venv/lib/python3.11/site-packages/IPython/core/interactiveshell.py\", line 3448, in run_ast_nodes\n      if await self.run_code(code, result, async_=asy):\n    File \"/home/gu/Workspace/jupyter-notebooks/venv/lib/python3.11/site-packages/IPython/core/interactiveshell.py\", line 3508, in run_code\n      exec(code_obj, self.user_global_ns, self.user_ns)\n    File \"/tmp/ipykernel_141827/2431662890.py\", line 1, in <module>\n      results = model.evaluate(test_x, test_y)\n    File \"/home/gu/Workspace/jupyter-notebooks/venv/lib/python3.11/site-packages/keras/utils/traceback_utils.py\", line 65, in error_handler\n      return fn(*args, **kwargs)\n    File \"/home/gu/Workspace/jupyter-notebooks/venv/lib/python3.11/site-packages/keras/engine/training.py\", line 2072, in evaluate\n      tmp_logs = self.test_function(iterator)\n    File \"/home/gu/Workspace/jupyter-notebooks/venv/lib/python3.11/site-packages/keras/engine/training.py\", line 1852, in test_function\n      return step_function(self, iterator)\n    File \"/home/gu/Workspace/jupyter-notebooks/venv/lib/python3.11/site-packages/keras/engine/training.py\", line 1836, in step_function\n      outputs = model.distribute_strategy.run(run_step, args=(data,))\n    File \"/home/gu/Workspace/jupyter-notebooks/venv/lib/python3.11/site-packages/keras/engine/training.py\", line 1824, in run_step\n      outputs = model.test_step(data)\n    File \"/home/gu/Workspace/jupyter-notebooks/venv/lib/python3.11/site-packages/keras/engine/training.py\", line 1790, in test_step\n      self.compute_loss(x, y, y_pred, sample_weight)\n    File \"/home/gu/Workspace/jupyter-notebooks/venv/lib/python3.11/site-packages/keras/engine/training.py\", line 1109, in compute_loss\n      return self.compiled_loss(\n    File \"/home/gu/Workspace/jupyter-notebooks/venv/lib/python3.11/site-packages/keras/engine/compile_utils.py\", line 265, in __call__\n      loss_value = loss_obj(y_t, y_p, sample_weight=sw)\n    File \"/home/gu/Workspace/jupyter-notebooks/venv/lib/python3.11/site-packages/keras/losses.py\", line 142, in __call__\n      losses = call_fn(y_true, y_pred)\n    File \"/home/gu/Workspace/jupyter-notebooks/venv/lib/python3.11/site-packages/keras/losses.py\", line 268, in call\n      return ag_fn(y_true, y_pred, **self._fn_kwargs)\n    File \"/home/gu/Workspace/jupyter-notebooks/venv/lib/python3.11/site-packages/keras/losses.py\", line 2156, in binary_crossentropy\n      backend.binary_crossentropy(y_true, y_pred, from_logits=from_logits),\n    File \"/home/gu/Workspace/jupyter-notebooks/venv/lib/python3.11/site-packages/keras/backend.py\", line 5707, in binary_crossentropy\n      return tf.nn.sigmoid_cross_entropy_with_logits(\nNode: 'binary_crossentropy/logistic_loss/mul'\nIncompatible shapes: [32,341] vs. [32,617]\n\t [[{{node binary_crossentropy/logistic_loss/mul}}]] [Op:__inference_test_function_4519]"
     ]
    }
   ],
   "source": [
    "results = model.evaluate(test_x, test_y)\n",
    "results"
   ]
  },
  {
   "cell_type": "code",
   "execution_count": 23,
   "metadata": {},
   "outputs": [],
   "source": [
    "predictions = model.predict(test_x)"
   ]
  },
  {
   "cell_type": "code",
   "execution_count": 32,
   "metadata": {},
   "outputs": [
    {
     "data": {
      "text/plain": [
       "[0.41169134]"
      ]
     },
     "execution_count": 32,
     "metadata": {},
     "output_type": "execute_result"
    }
   ],
   "source": [
    "[x for x in list(list(predictions)[0]) if x > 0.4]"
   ]
  },
  {
   "cell_type": "code",
   "execution_count": 1,
   "metadata": {},
   "outputs": [
    {
     "ename": "NameError",
     "evalue": "name 'test_x' is not defined",
     "output_type": "error",
     "traceback": [
      "\u001b[0;31m---------------------------------------------------------------------------\u001b[0m",
      "\u001b[0;31mNameError\u001b[0m                                 Traceback (most recent call last)",
      "Cell \u001b[0;32mIn[1], line 1\u001b[0m\n\u001b[0;32m----> 1\u001b[0m \u001b[43mtest_x\u001b[49m[\u001b[38;5;241m0\u001b[39m]\n",
      "\u001b[0;31mNameError\u001b[0m: name 'test_x' is not defined"
     ]
    }
   ],
   "source": [
    "test_x[0]"
   ]
  },
  {
   "cell_type": "code",
   "execution_count": 16,
   "metadata": {},
   "outputs": [
    {
     "name": "stdout",
     "output_type": "stream",
     "text": [
      "Model: \"sequential\"\n",
      "_________________________________________________________________\n",
      " Layer (type)                Output Shape              Param #   \n",
      "=================================================================\n",
      " dense (Dense)               (None, 256)               2560256   \n",
      "                                                                 \n",
      " dense_1 (Dense)             (None, 256)               65792     \n",
      "                                                                 \n",
      " dense_2 (Dense)             (None, 1040)              267280    \n",
      "                                                                 \n",
      "=================================================================\n",
      "Total params: 2,893,328\n",
      "Trainable params: 2,893,328\n",
      "Non-trainable params: 0\n",
      "_________________________________________________________________\n"
     ]
    }
   ],
   "source": [
    "model.summary()"
   ]
  },
  {
   "cell_type": "code",
   "execution_count": null,
   "metadata": {},
   "outputs": [],
   "source": []
  }
 ],
 "metadata": {
  "kernelspec": {
   "display_name": "Python 3 (ipykernel)",
   "language": "python",
   "name": "python3"
  },
  "language_info": {
   "codemirror_mode": {
    "name": "ipython",
    "version": 3
   },
   "file_extension": ".py",
   "mimetype": "text/x-python",
   "name": "python",
   "nbconvert_exporter": "python",
   "pygments_lexer": "ipython3",
   "version": "3.11.1"
  }
 },
 "nbformat": 4,
 "nbformat_minor": 4
}
