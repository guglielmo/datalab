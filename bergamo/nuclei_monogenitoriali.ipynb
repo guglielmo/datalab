{
 "cells": [
  {
   "cell_type": "markdown",
   "metadata": {},
   "source": [
    "# Nuclei familiari e condizioni di povertà assoluta"
   ]
  },
  {
   "cell_type": "markdown",
   "metadata": {},
   "source": [
    "## Introduzione\n",
    "Questa è un'analisi di alcuni [microdati ISTAT sulle spese delle famiglie](https://www.istat.it/it/archivio/180356),\n",
    "commissionata dall'Università di Bergamo.\n",
    "\n",
    "In particolare si vogliono estrarre:\n",
    "\n",
    "* Percentuale di monogenitori in povertà assoluta sul totale dei monogenitori\n",
    "* Percentuale di famiglie numerose (con 3 e più figli) in povertà assoluta sul totale dello stesso tipo di nucleo.\n",
    "* Percentuale di famiglie senza figli (solo coppie) in povertà assoluta sullo stesso nucleo\n",
    "* Percentuale di famiglie unipersonali in povertà assoluta sullo stesso tipo di famiglia.\n",
    "* La percentuale tra le famiglie monogenitoriali con figli che vivono in una casa di proprietà \n",
    "* La percentuale tra le famiglie monogenitoriali con figli che vivono in una casa in affitto\n",
    "* La percentuale tra le famiglie monogenitoriali con figli che non vanno in vacanza \n",
    "* La percentuale tra le famiglie monogenitoriali con figli che andava in vacanza ma non è riuscito ad andare in vacanza\n",
    "\n",
    "\n",
    "## Preparazione dei dati\n",
    "\n",
    "I microdati arrivano con oltre 1200 colonne, è possibile semplificarli, considerando solo quelle significative, in modo da rendere rapido l'import e la computazione.\n",
    "\n",
    "Si considerano solamente i primi 6 set di variabili sui membri del nucleo familiare, dato che nel campione non sono presenti \n",
    "record con dati nei set dal 7.mo al 12.mo. \n",
    "\n",
    "Sono selezionati i primi 6 set di campi degli individui componenti il nucleo, \n",
    "non essendo stati rilevati dati per nuclei con più di 6 elementi nel campione.\n",
    "ed altre variabili:\n",
    " - `Titoccup` - titolo di occupazione della abitazione (1 affitto, 2 proprietà, 2 usufrutto, 4 usufrutto gratuito) \n",
    " - `viaggi_ridqt`, - ha ridotto viaggi e vacanze o non li compra più\n",
    " - `viaggi_no_acq` - non ha mai acquistato viaggi e vacanze e continua a non farlo \n",
    " - `povassc` - indicatore di povertà assoluta\n",
    "\n",
    "Il modo più rapido di tagliare i dati è quello di usare la utility a linea di comando `csvcut`, selezionando esclusivamente \n",
    "le colonne cui siamo interessati. \n",
    "```\n",
    "csvcut -c1-80,190,1221,1226,1227,1241  -t HBS_Microdati_2018.txt > semplificati_2018.csv\n",
    "```\n",
    "\n",
    "\n"
   ]
  },
  {
   "cell_type": "markdown",
   "metadata": {},
   "source": [
    "## Import in pandas"
   ]
  },
  {
   "cell_type": "code",
   "execution_count": 1,
   "metadata": {},
   "outputs": [],
   "source": [
    "import pandas as pd\n",
    "\n",
    "df = pd.read_csv(\"./data/HBS_2018_IT_TXT/MICRODATI/semplificati_2018.csv\")\n",
    "n_df = len(df)"
   ]
  },
  {
   "cell_type": "markdown",
   "metadata": {},
   "source": [
    "Aggiungiamo delle colonne *calcolate*, per semplificare le estrazioni nel seguito:"
   ]
  },
  {
   "cell_type": "code",
   "execution_count": 2,
   "metadata": {},
   "outputs": [],
   "source": [
    "def count_children(r):\n",
    "    n = 0\n",
    "    if r.c_relaz_2 == ' 3':\n",
    "        n += 1\n",
    "    if r.c_relaz_3 == ' 3':\n",
    "        n += 1\n",
    "    if r.c_relaz_4 == ' 3':\n",
    "        n += 1\n",
    "    if r.c_relaz_5 == ' 3':\n",
    "        n += 1\n",
    "    if r.c_relaz_6 == ' 3':\n",
    "        n += 1\n",
    "    return n\n",
    "df['n_children'] = df.apply(func=lambda r:count_children(r), axis=1)"
   ]
  },
  {
   "cell_type": "code",
   "execution_count": 3,
   "metadata": {},
   "outputs": [],
   "source": [
    "def compute_is_mono(r):\n",
    "    is_mono = False\n",
    "    if (\n",
    "        r.c_Ncmp_fatto > 1 and r.n_children > 0 and not (\n",
    "            r.c_relaz_2 == ' 2' or \n",
    "            r.c_relaz_3 == ' 2' or \n",
    "            r.c_relaz_4 == ' 2' or \n",
    "            r.c_relaz_5 == ' 2' or \n",
    "            r.c_relaz_6 == ' 2'\n",
    "        )\n",
    "    ):\n",
    "        is_mono = True\n",
    "    return is_mono\n",
    "df['is_mono'] = df.apply(func=lambda r:compute_is_mono(r), axis=1)"
   ]
  },
  {
   "cell_type": "markdown",
   "metadata": {},
   "source": [
    "Una funzione comune, per calcolare i dati di diversi nuclei:"
   ]
  },
  {
   "cell_type": "code",
   "execution_count": 4,
   "metadata": {},
   "outputs": [],
   "source": [
    "def compute_data(sub_df, n_tot, article=\"i\", label=\"Nuclei familiari\"):\n",
    "    n = len(sub_df)\n",
    "    perc = 100. * n / n_tot\n",
    "    n_pov = len(sub_df[sub_df.povassc > 0])\n",
    "    perc_pov_rel = 100. * n_pov / n\n",
    "    perc_pov_abs = 100. * n_pov / n_tot\n",
    "    print(f\"Numero rilevazioni nel campione: {n_df}.\")\n",
    "    print(f\"{label}: {n} ({perc:.2f}% del campione).\")\n",
    "    print(f\"  in povertà assoluta: {n_pov} ({perc_pov_rel:.2f}% tra {article} {label.lower()} e {perc_pov_abs:.2f}% del campione)\")\n",
    "    return n, perc, n_pov, perc_pov_rel, perc_pov_abs"
   ]
  },
  {
   "cell_type": "markdown",
   "metadata": {},
   "source": [
    "## Nuclei monogenitoriali con figli"
   ]
  },
  {
   "cell_type": "code",
   "execution_count": 12,
   "metadata": {},
   "outputs": [
    {
     "name": "stdout",
     "output_type": "stream",
     "text": [
      "Numero rilevazioni nel campione: 18342.\n",
      "Nuclei monogenitoriali: 1617 (8.82% del campione).\n",
      "  in povertà assoluta: 182 (11.26% tra i nuclei monogenitoriali e 0.99% del campione)\n",
      "  in affitto: 378 (23.38% tra i nuclei e 2.06% del campione)\n",
      "  proprietari: 1079 (66.73% tra i nuclei e 5.88% del campione)\n",
      "  vanno meno in vacanza: 319 (19.73% tra i nuclei e 1.74% del campione)\n",
      "  non vanno in vacanza: 753 (46.57% tra i nuclei e 4.11% del campione)\n"
     ]
    }
   ],
   "source": [
    "df_mono = df[df['is_mono']]\n",
    "n_mono, n_perc_mono, n_mono_pov, perc_mono_pv_rel, perc_mono_pov_abs = compute_data(df_mono, n_df, label=\"Nuclei monogenitoriali\")\n",
    "n_mono_affitto = len(df_mono[df_mono.Titoccup == 1])\n",
    "n_mono_proprieta = len(df_mono[df_mono.Titoccup == 2])\n",
    "n_mono_less_holiday = len(df_mono[df_mono.viaggi_ridqt == '2'])\n",
    "n_mono_no_holiday = len(df_mono[df_mono.viaggi_no_acq == '7'])\n",
    "print(f\"  in affitto: {n_mono_affitto} ({100.*n_mono_affitto/n_mono:.2f}% tra i nuclei e {100.*n_mono_affitto/n_df:.2f}% del campione)\")\n",
    "print(f\"  proprietari: {n_mono_proprieta} ({100.*n_mono_proprieta/n_mono:.2f}% tra i nuclei e {100.*n_mono_proprieta/n_df:.2f}% del campione)\")\n",
    "print(f\"  vanno meno in vacanza: {n_mono_less_holiday} ({100.*n_mono_less_holiday/n_mono:.2f}% tra i nuclei e {100.*n_mono_less_holiday/n_df:.2f}% del campione)\")\n",
    "print(f\"  non vanno in vacanza: {n_mono_no_holiday} ({100.*n_mono_no_holiday/n_mono:.2f}% tra i nuclei e {100.*n_mono_no_holiday/n_df:.2f}% del campione)\")"
   ]
  },
  {
   "cell_type": "markdown",
   "metadata": {},
   "source": [
    "## Famiglie numerose (>3 figli)"
   ]
  },
  {
   "cell_type": "code",
   "execution_count": 55,
   "metadata": {},
   "outputs": [
    {
     "name": "stdout",
     "output_type": "stream",
     "text": [
      "Numero rilevazioni nel campione: 18342.\n",
      "Famiglie numerose: 671 (3.66% del campione).\n",
      "  di cui in povertà assoluta: 117 (17.44% tra le famiglie numerose e 0.64% del campione)\n"
     ]
    }
   ],
   "source": [
    "df_num = df[df.n_children >= 3]\n",
    "compute_data(df_num, n_df, label=\"Famiglie numerose\", article=\"le\")"
   ]
  },
  {
   "cell_type": "markdown",
   "metadata": {},
   "source": [
    "## Coppie senza figli"
   ]
  },
  {
   "cell_type": "code",
   "execution_count": 56,
   "metadata": {},
   "outputs": [
    {
     "name": "stdout",
     "output_type": "stream",
     "text": [
      "Numero rilevazioni nel campione: 18342.\n",
      "Coppie senza figli: 5087 (27.73% del campione).\n",
      "  di cui in povertà assoluta: 226 (4.44% tra le coppie senza figli e 1.23% del campione)\n"
     ]
    }
   ],
   "source": [
    "df_nc = df[(df.c_Ncmp_fatto > 1) & (df.n_children == 0)]\n",
    "compute_data(df_nc, n_df, label=\"Coppie senza figli\", article=\"le\")"
   ]
  },
  {
   "cell_type": "markdown",
   "metadata": {},
   "source": [
    "## Nuclei unipersonali"
   ]
  },
  {
   "cell_type": "code",
   "execution_count": 57,
   "metadata": {},
   "outputs": [
    {
     "name": "stdout",
     "output_type": "stream",
     "text": [
      "Numero rilevazioni nel campione: 18342.\n",
      "Nuclei unipersonali: 5733 (31.26% del campione).\n",
      "  di cui in povertà assoluta: 327 (5.70% tra i nuclei unipersonali e 1.78% del campione)\n"
     ]
    }
   ],
   "source": [
    "df_uni = df[df.c_Ncmp_fatto == 1]\n",
    "compute_data(df_uni, n_df, label=\"Nuclei unipersonali\", article=\"i\")"
   ]
  }
 ],
 "metadata": {
  "kernelspec": {
   "display_name": "Python 3",
   "language": "python",
   "name": "python3"
  },
  "language_info": {
   "codemirror_mode": {
    "name": "ipython",
    "version": 3
   },
   "file_extension": ".py",
   "mimetype": "text/x-python",
   "name": "python",
   "nbconvert_exporter": "python",
   "pygments_lexer": "ipython3",
   "version": "3.7.4"
  }
 },
 "nbformat": 4,
 "nbformat_minor": 4
}
