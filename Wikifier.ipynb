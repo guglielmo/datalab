{
 "cells": [
  {
   "cell_type": "code",
   "execution_count": 3,
   "metadata": {},
   "outputs": [
    {
     "name": "stdout",
     "output_type": "stream",
     "text": [
      "Requirement already satisfied: neo4j in ./venv/lib/python3.7/site-packages (4.2.0)\n",
      "Requirement already satisfied: pandas in ./venv/lib/python3.7/site-packages (0.25.3)\n",
      "Requirement already satisfied: seaborn in ./venv/lib/python3.7/site-packages (0.9.0)\n",
      "Requirement already satisfied: pytz in ./venv/lib/python3.7/site-packages (from neo4j) (2019.3)\n",
      "Requirement already satisfied: python-dateutil>=2.6.1 in ./venv/lib/python3.7/site-packages (from pandas) (2.8.1)\n",
      "Requirement already satisfied: numpy>=1.13.3 in ./venv/lib/python3.7/site-packages (from pandas) (1.18.1)\n",
      "Requirement already satisfied: matplotlib>=1.4.3 in ./venv/lib/python3.7/site-packages (from seaborn) (3.1.2)\n",
      "Requirement already satisfied: scipy>=0.14.0 in ./venv/lib/python3.7/site-packages (from seaborn) (1.4.1)\n",
      "Requirement already satisfied: six>=1.5 in ./venv/lib/python3.7/site-packages (from python-dateutil>=2.6.1->pandas) (1.13.0)\n",
      "Requirement already satisfied: kiwisolver>=1.0.1 in ./venv/lib/python3.7/site-packages (from matplotlib>=1.4.3->seaborn) (1.1.0)\n",
      "Requirement already satisfied: pyparsing!=2.0.4,!=2.1.2,!=2.1.6,>=2.0.1 in ./venv/lib/python3.7/site-packages (from matplotlib>=1.4.3->seaborn) (2.4.6)\n",
      "Requirement already satisfied: cycler>=0.10 in ./venv/lib/python3.7/site-packages (from matplotlib>=1.4.3->seaborn) (0.10.0)\n",
      "Requirement already satisfied: setuptools in ./venv/lib/python3.7/site-packages (from kiwisolver>=1.0.1->matplotlib>=1.4.3->seaborn) (45.0.0)\n",
      "\u001b[33mWARNING: You are using pip version 20.2.4; however, version 21.0.1 is available.\n",
      "You should consider upgrading via the '/Users/gu/Workspace/jupyter-notebooks/venv/bin/python -m pip install --upgrade pip' command.\u001b[0m\n"
     ]
    }
   ],
   "source": [
    "!pip install neo4j pandas seaborn"
   ]
  },
  {
   "cell_type": "code",
   "execution_count": 1,
   "metadata": {},
   "outputs": [],
   "source": [
    "%matplotlib inline\n",
    "import seaborn as sns\n",
    "from matplotlib import pyplot\n",
    "import pandas as pd\n",
    "from neo4j import GraphDatabase\n",
    "\n",
    "driver = GraphDatabase.driver('bolt://localhost:7687', auth=('neo4j', 'fammepassa'))\n",
    "\n",
    "def run_query(query, params={}):\n",
    "    with driver.session() as session:\n",
    "        result = session.run(query, params)\n",
    "        return pd.DataFrame([r.values() for r in result], columns=result.keys())"
   ]
  },
  {
   "cell_type": "code",
   "execution_count": 6,
   "metadata": {},
   "outputs": [
    {
     "data": {
      "text/html": [
       "<div>\n",
       "<style scoped>\n",
       "    .dataframe tbody tr th:only-of-type {\n",
       "        vertical-align: middle;\n",
       "    }\n",
       "\n",
       "    .dataframe tbody tr th {\n",
       "        vertical-align: top;\n",
       "    }\n",
       "\n",
       "    .dataframe thead th {\n",
       "        text-align: right;\n",
       "    }\n",
       "</style>\n",
       "<table border=\"1\" class=\"dataframe\">\n",
       "  <thead>\n",
       "    <tr style=\"text-align: right;\">\n",
       "      <th></th>\n",
       "    </tr>\n",
       "  </thead>\n",
       "  <tbody>\n",
       "  </tbody>\n",
       "</table>\n",
       "</div>"
      ],
      "text/plain": [
       "Empty DataFrame\n",
       "Columns: []\n",
       "Index: []"
      ]
     },
     "execution_count": 6,
     "metadata": {},
     "output_type": "execute_result"
    }
   ],
   "source": [
    "run_query(\"CREATE CONSTRAINT IF NOT EXISTS ON (a:Article) ASSERT a.url IS UNIQUE;\")"
   ]
  },
  {
   "cell_type": "code",
   "execution_count": 7,
   "metadata": {},
   "outputs": [
    {
     "data": {
      "text/html": [
       "<div>\n",
       "<style scoped>\n",
       "    .dataframe tbody tr th:only-of-type {\n",
       "        vertical-align: middle;\n",
       "    }\n",
       "\n",
       "    .dataframe tbody tr th {\n",
       "        vertical-align: top;\n",
       "    }\n",
       "\n",
       "    .dataframe thead th {\n",
       "        text-align: right;\n",
       "    }\n",
       "</style>\n",
       "<table border=\"1\" class=\"dataframe\">\n",
       "  <thead>\n",
       "    <tr style=\"text-align: right;\">\n",
       "      <th></th>\n",
       "    </tr>\n",
       "  </thead>\n",
       "  <tbody>\n",
       "  </tbody>\n",
       "</table>\n",
       "</div>"
      ],
      "text/plain": [
       "Empty DataFrame\n",
       "Columns: []\n",
       "Index: []"
      ]
     },
     "execution_count": 7,
     "metadata": {},
     "output_type": "execute_result"
    }
   ],
   "source": [
    "run_query(\"CREATE CONSTRAINT IF NOT EXISTS ON (e:Entity) ASSERT e.wikiDataItemId is UNIQUE;\")\n",
    "run_query(\"CREATE CONSTRAINT IF NOT EXISTS ON (t:Tag) ASSERT t.name is UNIQUE;\")"
   ]
  },
  {
   "cell_type": "code",
   "execution_count": 8,
   "metadata": {},
   "outputs": [
    {
     "data": {
      "text/html": [
       "<div>\n",
       "<style scoped>\n",
       "    .dataframe tbody tr th:only-of-type {\n",
       "        vertical-align: middle;\n",
       "    }\n",
       "\n",
       "    .dataframe tbody tr th {\n",
       "        vertical-align: top;\n",
       "    }\n",
       "\n",
       "    .dataframe thead th {\n",
       "        text-align: right;\n",
       "    }\n",
       "</style>\n",
       "<table border=\"1\" class=\"dataframe\">\n",
       "  <thead>\n",
       "    <tr style=\"text-align: right;\">\n",
       "      <th></th>\n",
       "    </tr>\n",
       "  </thead>\n",
       "  <tbody>\n",
       "  </tbody>\n",
       "</table>\n",
       "</div>"
      ],
      "text/plain": [
       "Empty DataFrame\n",
       "Columns: []\n",
       "Index: []"
      ]
     },
     "execution_count": 8,
     "metadata": {},
     "output_type": "execute_result"
    }
   ],
   "source": [
    "run_query(\"\"\"\n",
    "CALL apoc.load.html(\"https://www.cnet.com/news/\", \n",
    "  {topics:\"div.tag-listing > ul > li > a\"}) YIELD value\n",
    "UNWIND value.topics as topic  \n",
    "WITH \"https://www.cnet.com\" + topic.attributes.href as link\n",
    "CALL apoc.load.html(link, {article:\"div.row.asset > div > a\"}) YIELD value as articles\n",
    "UNWIND articles.article as article\n",
    "WITH distinct \"https://www.cnet.com\" + article.attributes.href as article_link\n",
    "MERGE (a:Article{url:article_link});\n",
    "\"\"\")"
   ]
  },
  {
   "cell_type": "code",
   "execution_count": 9,
   "metadata": {},
   "outputs": [
    {
     "data": {
      "text/html": [
       "<div>\n",
       "<style scoped>\n",
       "    .dataframe tbody tr th:only-of-type {\n",
       "        vertical-align: middle;\n",
       "    }\n",
       "\n",
       "    .dataframe tbody tr th {\n",
       "        vertical-align: top;\n",
       "    }\n",
       "\n",
       "    .dataframe thead th {\n",
       "        text-align: right;\n",
       "    }\n",
       "</style>\n",
       "<table border=\"1\" class=\"dataframe\">\n",
       "  <thead>\n",
       "    <tr style=\"text-align: right;\">\n",
       "      <th></th>\n",
       "    </tr>\n",
       "  </thead>\n",
       "  <tbody>\n",
       "  </tbody>\n",
       "</table>\n",
       "</div>"
      ],
      "text/plain": [
       "Empty DataFrame\n",
       "Columns: []\n",
       "Index: []"
      ]
     },
     "execution_count": 9,
     "metadata": {},
     "output_type": "execute_result"
    }
   ],
   "source": [
    "run_query(\"\"\"\n",
    "MATCH (a:Article)\n",
    "CALL apoc.load.html(a.url,\n",
    "{date:\"time\", title:\"h1.speakableText\", text:\"div.article-main-body > p\", tags: \"div.tagList > a\"}) YIELD value\n",
    "SET a.datetime = datetime(value.date[0].attributes.datetime)\n",
    "FOREACH (_ IN CASE WHEN value.title[0].text IS NOT NULL THEN [true] ELSE [] END | \n",
    "           CREATE (a)-[:HAS_TITLE]->(:Section{text:value.title[0].text})\n",
    ")\n",
    "FOREACH (t in value.tags | \n",
    "MERGE (tag:Tag{name:t.text}) MERGE (a)-[:HAS_TAG]->(tag)\n",
    ")\n",
    "WITH a, value.text as texts\n",
    "UNWIND texts as text\n",
    "WITH a,text\n",
    "WHERE text.text IS NOT NULL\n",
    "CREATE (a)-[:HAS_SECTION]->(:Section{text:text.text});\n",
    "\"\"\")"
   ]
  },
  {
   "cell_type": "code",
   "execution_count": 10,
   "metadata": {},
   "outputs": [
    {
     "data": {
      "text/html": [
       "<div>\n",
       "<style scoped>\n",
       "    .dataframe tbody tr th:only-of-type {\n",
       "        vertical-align: middle;\n",
       "    }\n",
       "\n",
       "    .dataframe tbody tr th {\n",
       "        vertical-align: top;\n",
       "    }\n",
       "\n",
       "    .dataframe thead th {\n",
       "        text-align: right;\n",
       "    }\n",
       "</style>\n",
       "<table border=\"1\" class=\"dataframe\">\n",
       "  <thead>\n",
       "    <tr style=\"text-align: right;\">\n",
       "      <th></th>\n",
       "    </tr>\n",
       "  </thead>\n",
       "  <tbody>\n",
       "  </tbody>\n",
       "</table>\n",
       "</div>"
      ],
      "text/plain": [
       "Empty DataFrame\n",
       "Columns: []\n",
       "Index: []"
      ]
     },
     "execution_count": 10,
     "metadata": {},
     "output_type": "execute_result"
    }
   ],
   "source": [
    "run_query(\"\"\"\n",
    "MATCH (n:Tag)\n",
    "WHERE n.name CONTAINS \"Notification\"\n",
    "DETACH DELETE n;\n",
    "\"\"\")"
   ]
  },
  {
   "cell_type": "code",
   "execution_count": 11,
   "metadata": {},
   "outputs": [
    {
     "data": {
      "image/png": "[encoded data removed]",
      "text/plain": [
       "<Figure size 432x288 with 1 Axes>"
      ]
     },
     "metadata": {
      "needs_background": "light"
     },
     "output_type": "display_data"
    }
   ],
   "source": [
    "data = run_query(\"\"\"\n",
    "MATCH (a:Article)\n",
    "RETURN exists((a)-[:HAS_SECTION]->()) as scraped_articles, count(*) as count\n",
    "\"\"\")\n",
    "ax = sns.barplot(x=\"scraped_articles\", y=\"count\", data=data, color=\"blue\")"
   ]
  },
  {
   "cell_type": "code",
   "execution_count": 12,
   "metadata": {},
   "outputs": [
    {
     "data": {
      "image/png": "[encoded data removed]",
      "text/plain": [
       "<Figure size 1152x648 with 1 Axes>"
      ]
     },
     "metadata": {
      "needs_background": "light"
     },
     "output_type": "display_data"
    }
   ],
   "source": [
    "data = run_query(\"\"\"\n",
    "MATCH (n:Tag)\n",
    "RETURN n.name as tag, size((n)<-[:HAS_TAG]-()) as articles\n",
    "ORDER BY articles DESC\n",
    "LIMIT 10\n",
    "\"\"\")\n",
    "\n",
    "fig, ax = pyplot.subplots(figsize=(16,9))\n",
    "ax = sns.barplot(x=\"tag\", y=\"articles\", data=data, color=\"blue\")"
   ]
  },
  {
   "cell_type": "code",
   "execution_count": 2,
   "metadata": {},
   "outputs": [],
   "source": [
    "user_key = \"msipqwjijodviwghewtfbybshzezmj\""
   ]
  },
  {
   "cell_type": "code",
   "execution_count": 7,
   "metadata": {},
   "outputs": [
    {
     "data": {
      "text/html": [
       "<div>\n",
       "<style scoped>\n",
       "    .dataframe tbody tr th:only-of-type {\n",
       "        vertical-align: middle;\n",
       "    }\n",
       "\n",
       "    .dataframe tbody tr th {\n",
       "        vertical-align: top;\n",
       "    }\n",
       "\n",
       "    .dataframe thead th {\n",
       "        text-align: right;\n",
       "    }\n",
       "</style>\n",
       "<table border=\"1\" class=\"dataframe\">\n",
       "  <thead>\n",
       "    <tr style=\"text-align: right;\">\n",
       "      <th></th>\n",
       "      <th>batches</th>\n",
       "      <th>total</th>\n",
       "      <th>timeTaken</th>\n",
       "      <th>committedOperations</th>\n",
       "      <th>failedOperations</th>\n",
       "      <th>failedBatches</th>\n",
       "      <th>retries</th>\n",
       "      <th>errorMessages</th>\n",
       "      <th>batch</th>\n",
       "      <th>operations</th>\n",
       "      <th>wasTerminated</th>\n",
       "      <th>failedParams</th>\n",
       "    </tr>\n",
       "  </thead>\n",
       "  <tbody>\n",
       "    <tr>\n",
       "      <th>0</th>\n",
       "      <td>37</td>\n",
       "      <td>3627</td>\n",
       "      <td>3795</td>\n",
       "      <td>3327</td>\n",
       "      <td>300</td>\n",
       "      <td>3</td>\n",
       "      <td>0</td>\n",
       "      <td>{'Can't read url or key http://www.wikifier.or...</td>\n",
       "      <td>{'total': 37, 'committed': 34, 'failed': 3, 'e...</td>\n",
       "      <td>{'total': 3627, 'committed': 3327, 'failed': 3...</td>\n",
       "      <td>False</td>\n",
       "      <td>{}</td>\n",
       "    </tr>\n",
       "  </tbody>\n",
       "</table>\n",
       "</div>"
      ],
      "text/plain": [
       "   batches  total  timeTaken  committedOperations  failedOperations  \\\n",
       "0       37   3627       3795                 3327               300   \n",
       "\n",
       "   failedBatches  retries                                      errorMessages  \\\n",
       "0              3        0  {'Can't read url or key http://www.wikifier.or...   \n",
       "\n",
       "                                               batch  \\\n",
       "0  {'total': 37, 'committed': 34, 'failed': 3, 'e...   \n",
       "\n",
       "                                          operations  wasTerminated  \\\n",
       "0  {'total': 3627, 'committed': 3327, 'failed': 3...          False   \n",
       "\n",
       "  failedParams  \n",
       "0           {}  "
      ]
     },
     "execution_count": 7,
     "metadata": {},
     "output_type": "execute_result"
    }
   ],
   "source": [
    "run_query(\"\"\"\n",
    "CALL apoc.periodic.iterate('\n",
    " MATCH (s:Section) RETURN s\n",
    " ','\n",
    " WITH s, \"http://www.wikifier.org/annotate-article?\" +\n",
    "        \"text=\" + apoc.text.urlencode(s.text) + \"&\" +\n",
    "        \"lang=en&\" +\n",
    "        \"pageRankSqThreshold=0.80&\" +\n",
    "        \"applyPageRankSqThreshold=true&\" +\n",
    "        \"nTopDfValuesToIgnore=200&\" +\n",
    "        \"nWordsToIgnoreFromList=200&\" +\n",
    "        \"minLinkFrequency=100&\" + \n",
    "        \"maxMentionEntropy=10&\" +\n",
    "        \"wikiDataClasses=false&\" +\n",
    "        \"wikiDataClassIds=false&\" +\n",
    "        \"userKey=\" + $userKey as url\n",
    "CALL apoc.log.info(toString(ID(s)))\n",
    "CALL apoc.load.json(url) YIELD value\n",
    "UNWIND value.annotations as annotation\n",
    "MERGE (e:Entity{wikiDataItemId:annotation.wikiDataItemId})\n",
    "ON CREATE SET e.title = annotation.title, e.url = annotation.url\n",
    "MERGE (s)-[:HAS_ENTITY]->(e)',\n",
    "{batchSize:100, params: {userKey:$user_key}})\n",
    "\"\"\", {\"user_key\":user_key})"
   ]
  },
  {
   "cell_type": "code",
   "execution_count": 8,
   "metadata": {},
   "outputs": [
    {
     "data": {
      "image/png": "[encoded data removed]",
      "text/plain": [
       "<Figure size 1152x648 with 1 Axes>"
      ]
     },
     "metadata": {
      "needs_background": "light"
     },
     "output_type": "display_data"
    }
   ],
   "source": [
    "data = run_query(\"\"\"\n",
    "MATCH (e:Entity)\n",
    "RETURN e.title as entity, size((e)<--()) as mentions\n",
    "ORDER BY mentions DESC LIMIT 10;\n",
    "\"\"\")\n",
    "\n",
    "fig, ax = pyplot.subplots(figsize=(16,9))\n",
    "ax = sns.barplot(x=\"entity\", y=\"mentions\", data=data, color=\"blue\")\n"
   ]
  },
  {
   "cell_type": "code",
   "execution_count": 9,
   "metadata": {},
   "outputs": [
    {
     "data": {
      "text/html": [
       "<div>\n",
       "<style scoped>\n",
       "    .dataframe tbody tr th:only-of-type {\n",
       "        vertical-align: middle;\n",
       "    }\n",
       "\n",
       "    .dataframe tbody tr th {\n",
       "        vertical-align: top;\n",
       "    }\n",
       "\n",
       "    .dataframe thead th {\n",
       "        text-align: right;\n",
       "    }\n",
       "</style>\n",
       "<table border=\"1\" class=\"dataframe\">\n",
       "  <thead>\n",
       "    <tr style=\"text-align: right;\">\n",
       "      <th></th>\n",
       "      <th>tag</th>\n",
       "      <th>top_3_mentions</th>\n",
       "    </tr>\n",
       "  </thead>\n",
       "  <tbody>\n",
       "    <tr>\n",
       "      <th>0</th>\n",
       "      <td>GameStop</td>\n",
       "      <td>[Stock, GameStop, United States dollar]</td>\n",
       "    </tr>\n",
       "    <tr>\n",
       "      <th>1</th>\n",
       "      <td>Investing</td>\n",
       "      <td>[Stock, GameStop, United States dollar]</td>\n",
       "    </tr>\n",
       "    <tr>\n",
       "      <th>2</th>\n",
       "      <td>Robinhood</td>\n",
       "      <td>[Stock, GameStop, Trade]</td>\n",
       "    </tr>\n",
       "    <tr>\n",
       "      <th>3</th>\n",
       "      <td>Stock Market</td>\n",
       "      <td>[Stock, GameStop, United States dollar]</td>\n",
       "    </tr>\n",
       "    <tr>\n",
       "      <th>4</th>\n",
       "      <td>Virtual Reality</td>\n",
       "      <td>[Virtual reality, Facebook, Technology]</td>\n",
       "    </tr>\n",
       "  </tbody>\n",
       "</table>\n",
       "</div>"
      ],
      "text/plain": [
       "               tag                           top_3_mentions\n",
       "0         GameStop  [Stock, GameStop, United States dollar]\n",
       "1        Investing  [Stock, GameStop, United States dollar]\n",
       "2        Robinhood                 [Stock, GameStop, Trade]\n",
       "3     Stock Market  [Stock, GameStop, United States dollar]\n",
       "4  Virtual Reality  [Virtual reality, Facebook, Technology]"
      ]
     },
     "execution_count": 9,
     "metadata": {},
     "output_type": "execute_result"
    }
   ],
   "source": [
    "run_query(\"\"\"\n",
    "MATCH (e:Entity)<-[:HAS_ENTITY]-()<-[:HAS_SECTION]-()-[:HAS_TAG]->(tag)\n",
    "WITH tag.name as tag, e.title as title, count(*) as mentions\n",
    "ORDER BY mentions DESC\n",
    "RETURN tag, collect(title)[..3] as top_3_mentions\n",
    "LIMIT 5;\n",
    "\"\"\")"
   ]
  },
  {
   "cell_type": "code",
   "execution_count": 10,
   "metadata": {},
   "outputs": [
    {
     "data": {
      "text/html": [
       "<div>\n",
       "<style scoped>\n",
       "    .dataframe tbody tr th:only-of-type {\n",
       "        vertical-align: middle;\n",
       "    }\n",
       "\n",
       "    .dataframe tbody tr th {\n",
       "        vertical-align: top;\n",
       "    }\n",
       "\n",
       "    .dataframe thead th {\n",
       "        text-align: right;\n",
       "    }\n",
       "</style>\n",
       "<table border=\"1\" class=\"dataframe\">\n",
       "  <thead>\n",
       "    <tr style=\"text-align: right;\">\n",
       "      <th></th>\n",
       "    </tr>\n",
       "  </thead>\n",
       "  <tbody>\n",
       "  </tbody>\n",
       "</table>\n",
       "</div>"
      ],
      "text/plain": [
       "Empty DataFrame\n",
       "Columns: []\n",
       "Index: []"
      ]
     },
     "execution_count": 10,
     "metadata": {},
     "output_type": "execute_result"
    }
   ],
   "source": [
    "run_query(\"\"\"\n",
    "// Iterate over entities\n",
    "MATCH (e:Entity)\n",
    "// Prepare a SparQL query\n",
    "WITH 'SELECT *\n",
    "      WHERE{\n",
    "        ?item rdfs:label ?name .\n",
    "        filter (?item = wd:' + e.wikiDataItemId + ')\n",
    "        filter (lang(?name) = \"en\" ) .\n",
    "      OPTIONAL{\n",
    "        ?item wdt:P31 [rdfs:label ?class] .\n",
    "        filter (lang(?class)=\"en\")\n",
    "      }}' AS sparql, e\n",
    "// make a request to Wikidata\n",
    "CALL apoc.load.jsonParams(\n",
    "    \"https://query.wikidata.org/sparql?query=\" + \n",
    "    apoc.text.urlencode(sparql),\n",
    "     { Accept: \"application/sparql-results+json\"}, null)\n",
    "YIELD value\n",
    "UNWIND value['results']['bindings'] as row\n",
    "FOREACH(ignoreme in case when row['class'] is not null then [1] else [] end | \n",
    "        MERGE (c:Class{name:row['class']['value']})\n",
    "        MERGE (e)-[:INSTANCE_OF]->(c));    \n",
    "\"\"\")"
   ]
  },
  {
   "cell_type": "code",
   "execution_count": 11,
   "metadata": {},
   "outputs": [
    {
     "data": {
      "image/png": "[encoded data removed]",
      "text/plain": [
       "<Figure size 1152x648 with 1 Axes>"
      ]
     },
     "metadata": {
      "needs_background": "light"
     },
     "output_type": "display_data"
    }
   ],
   "source": [
    "data = run_query(\"\"\"\n",
    "MATCH (c:Class)\n",
    "RETURN c.name as class, size((c)<--()) as count\n",
    "ORDER BY count DESC LIMIT 10;\n",
    "\"\"\")\n",
    "\n",
    "fig, ax = pyplot.subplots(figsize=(16,9))\n",
    "ax = sns.barplot(x=\"class\", y=\"count\", data=data, color=\"blue\")\n"
   ]
  },
  {
   "cell_type": "code",
   "execution_count": 12,
   "metadata": {},
   "outputs": [
    {
     "data": {
      "text/html": [
       "<div>\n",
       "<style scoped>\n",
       "    .dataframe tbody tr th:only-of-type {\n",
       "        vertical-align: middle;\n",
       "    }\n",
       "\n",
       "    .dataframe tbody tr th {\n",
       "        vertical-align: top;\n",
       "    }\n",
       "\n",
       "    .dataframe thead th {\n",
       "        text-align: right;\n",
       "    }\n",
       "</style>\n",
       "<table border=\"1\" class=\"dataframe\">\n",
       "  <thead>\n",
       "    <tr style=\"text-align: right;\">\n",
       "      <th></th>\n",
       "    </tr>\n",
       "  </thead>\n",
       "  <tbody>\n",
       "  </tbody>\n",
       "</table>\n",
       "</div>"
      ],
      "text/plain": [
       "Empty DataFrame\n",
       "Columns: []\n",
       "Index: []"
      ]
     },
     "execution_count": 12,
     "metadata": {},
     "output_type": "execute_result"
    }
   ],
   "source": [
    "run_query(\"\"\"\n",
    "MATCH (e:Entity)-[:INSTANCE_OF]->(c:Class)\n",
    "WHERE c.name in [\"human\"]\n",
    "SET e:Person;\n",
    "\"\"\")\n",
    "run_query(\"\"\"\n",
    "MATCH (e:Entity)-[:INSTANCE_OF]->(c:Class)\n",
    "WHERE c.name in [\"business\", \"enterprise\"]\n",
    "SET e:Business;\n",
    "\"\"\")"
   ]
  },
  {
   "cell_type": "code",
   "execution_count": 13,
   "metadata": {},
   "outputs": [
    {
     "data": {
      "text/plain": [
       "[Text(0, 0, 'Apple Inc.'),\n",
       " Text(0, 0, 'Amazon (company)'),\n",
       " Text(0, 0, 'GameStop'),\n",
       " Text(0, 0, 'Google'),\n",
       " Text(0, 0, 'The Walt Disney Company'),\n",
       " Text(0, 0, 'Sony'),\n",
       " Text(0, 0, 'Netflix'),\n",
       " Text(0, 0, 'Microsoft'),\n",
       " Text(0, 0, 'Marvel Comics'),\n",
       " Text(0, 0, 'Best Buy')]"
      ]
     },
     "execution_count": 13,
     "metadata": {},
     "output_type": "execute_result"
    },
    {
     "data": {
      "image/png": "[encoded data removed]",
      "text/plain": [
       "<Figure size 1152x648 with 1 Axes>"
      ]
     },
     "metadata": {
      "needs_background": "light"
     },
     "output_type": "display_data"
    }
   ],
   "source": [
    "data = run_query(\"\"\"\n",
    "MATCH (b:Business)\n",
    "RETURN b.title as business, size((b)<-[:HAS_ENTITY]-()) as mentions\n",
    "ORDER BY mentions DESC\n",
    "LIMIT 10\n",
    "\"\"\")\n",
    "\n",
    "fig, ax = pyplot.subplots(figsize=(16,9))\n",
    "ax = sns.barplot(x=\"business\", y=\"mentions\", data=data, color=\"blue\")\n",
    "ax.set_xticklabels(ax.get_xticklabels(), rotation=30)\n"
   ]
  },
  {
   "cell_type": "code",
   "execution_count": 14,
   "metadata": {},
   "outputs": [
    {
     "data": {
      "text/html": [
       "<div>\n",
       "<style scoped>\n",
       "    .dataframe tbody tr th:only-of-type {\n",
       "        vertical-align: middle;\n",
       "    }\n",
       "\n",
       "    .dataframe tbody tr th {\n",
       "        vertical-align: top;\n",
       "    }\n",
       "\n",
       "    .dataframe thead th {\n",
       "        text-align: right;\n",
       "    }\n",
       "</style>\n",
       "<table border=\"1\" class=\"dataframe\">\n",
       "  <thead>\n",
       "    <tr style=\"text-align: right;\">\n",
       "      <th></th>\n",
       "    </tr>\n",
       "  </thead>\n",
       "  <tbody>\n",
       "  </tbody>\n",
       "</table>\n",
       "</div>"
      ],
      "text/plain": [
       "Empty DataFrame\n",
       "Columns: []\n",
       "Index: []"
      ]
     },
     "execution_count": 14,
     "metadata": {},
     "output_type": "execute_result"
    }
   ],
   "source": [
    "run_query(\"\"\"\n",
    "MATCH (e:Business)\n",
    "// Prepare a SparQL query\n",
    "WITH 'SELECT *\n",
    "      WHERE{\n",
    "        ?item rdfs:label ?name .\n",
    "        filter (?item = wd:' + e.wikiDataItemId + ')\n",
    "        filter (lang(?name) = \"en\" ) .\n",
    "      OPTIONAL{\n",
    "        ?item wdt:P452 [rdfs:label ?industry] .\n",
    "        filter (lang(?industry)=\"en\")\n",
    "      }}' AS sparql, e\n",
    "// make a request to Wikidata\n",
    "CALL apoc.load.jsonParams(\n",
    "    \"https://query.wikidata.org/sparql?query=\" + \n",
    "    apoc.text.urlencode(sparql),\n",
    "     { Accept: \"application/sparql-results+json\"}, null)\n",
    "YIELD value\n",
    "UNWIND value['results']['bindings'] as row\n",
    "FOREACH(ignoreme in case when row['industry'] is not null then [1] else [] end | \n",
    "        MERGE (i:Industry{name:row['industry']['value']})\n",
    "        MERGE (e)-[:PART_OF_INDUSTRY]->(i));\n",
    "\"\"\")"
   ]
  },
  {
   "cell_type": "code",
   "execution_count": 15,
   "metadata": {},
   "outputs": [
    {
     "data": {
      "image/png": "[encoded data removed]",
      "text/plain": [
       "<Figure size 1152x648 with 1 Axes>"
      ]
     },
     "metadata": {
      "needs_background": "light"
     },
     "output_type": "display_data"
    }
   ],
   "source": [
    "data = run_query(\"\"\"\n",
    "MATCH (b:Business)\n",
    "WITH b, size((b)<-[:HAS_ENTITY]-()) as mentions\n",
    "ORDER BY mentions DESC \n",
    "LIMIT 1\n",
    "MATCH (other_entities)<-[:HAS_ENTITY]-()-[:HAS_ENTITY]->(b)\n",
    "RETURN other_entities.title as entity, count(*) as count\n",
    "ORDER BY count DESC\n",
    "LIMIT 10;\n",
    "\"\"\")\n",
    "\n",
    "fig, ax = pyplot.subplots(figsize=(16,9))\n",
    "ax = sns.barplot(x=\"entity\", y=\"count\", data=data, color=\"blue\")\n"
   ]
  },
  {
   "cell_type": "code",
   "execution_count": 16,
   "metadata": {},
   "outputs": [
    {
     "data": {
      "text/html": [
       "<div>\n",
       "<style scoped>\n",
       "    .dataframe tbody tr th:only-of-type {\n",
       "        vertical-align: middle;\n",
       "    }\n",
       "\n",
       "    .dataframe tbody tr th {\n",
       "        vertical-align: top;\n",
       "    }\n",
       "\n",
       "    .dataframe thead th {\n",
       "        text-align: right;\n",
       "    }\n",
       "</style>\n",
       "<table border=\"1\" class=\"dataframe\">\n",
       "  <thead>\n",
       "    <tr style=\"text-align: right;\">\n",
       "      <th></th>\n",
       "      <th>entity</th>\n",
       "      <th>count</th>\n",
       "    </tr>\n",
       "  </thead>\n",
       "  <tbody>\n",
       "    <tr>\n",
       "      <th>0</th>\n",
       "      <td>Apple Watch</td>\n",
       "      <td>41</td>\n",
       "    </tr>\n",
       "    <tr>\n",
       "      <th>1</th>\n",
       "      <td>IPhone</td>\n",
       "      <td>26</td>\n",
       "    </tr>\n",
       "    <tr>\n",
       "      <th>2</th>\n",
       "      <td>Mobile app</td>\n",
       "      <td>24</td>\n",
       "    </tr>\n",
       "    <tr>\n",
       "      <th>3</th>\n",
       "      <td>Apple TV</td>\n",
       "      <td>22</td>\n",
       "    </tr>\n",
       "    <tr>\n",
       "      <th>4</th>\n",
       "      <td>IOS</td>\n",
       "      <td>15</td>\n",
       "    </tr>\n",
       "    <tr>\n",
       "      <th>5</th>\n",
       "      <td>IPad</td>\n",
       "      <td>15</td>\n",
       "    </tr>\n",
       "    <tr>\n",
       "      <th>6</th>\n",
       "      <td>Facebook</td>\n",
       "      <td>14</td>\n",
       "    </tr>\n",
       "    <tr>\n",
       "      <th>7</th>\n",
       "      <td>Amazon (company)</td>\n",
       "      <td>14</td>\n",
       "    </tr>\n",
       "    <tr>\n",
       "      <th>8</th>\n",
       "      <td>Virtual reality</td>\n",
       "      <td>11</td>\n",
       "    </tr>\n",
       "    <tr>\n",
       "      <th>9</th>\n",
       "      <td>Television</td>\n",
       "      <td>11</td>\n",
       "    </tr>\n",
       "  </tbody>\n",
       "</table>\n",
       "</div>"
      ],
      "text/plain": [
       "             entity  count\n",
       "0       Apple Watch     41\n",
       "1            IPhone     26\n",
       "2        Mobile app     24\n",
       "3          Apple TV     22\n",
       "4               IOS     15\n",
       "5              IPad     15\n",
       "6          Facebook     14\n",
       "7  Amazon (company)     14\n",
       "8   Virtual reality     11\n",
       "9        Television     11"
      ]
     },
     "execution_count": 16,
     "metadata": {},
     "output_type": "execute_result"
    }
   ],
   "source": [
    "data"
   ]
  },
  {
   "cell_type": "code",
   "execution_count": 17,
   "metadata": {},
   "outputs": [
    {
     "data": {
      "text/plain": [
       "[Text(0, 0, 'retail'),\n",
       " Text(0, 0, 'e-commerce'),\n",
       " Text(0, 0, 'web service'),\n",
       " Text(0, 0, 'web hosting service'),\n",
       " Text(0, 0, 'communication device'),\n",
       " Text(0, 0, 'telecommunications industry'),\n",
       " Text(0, 0, 'International Standard Industrial Classification'),\n",
       " Text(0, 0, 'automotive industry'),\n",
       " Text(0, 0, 'computer network'),\n",
       " Text(0, 0, 'electrical apparatus')]"
      ]
     },
     "execution_count": 17,
     "metadata": {},
     "output_type": "execute_result"
    },
    {
     "data": {
      "image/png": "[encoded data removed]",
      "text/plain": [
       "<Figure size 1152x648 with 1 Axes>"
      ]
     },
     "metadata": {
      "needs_background": "light"
     },
     "output_type": "display_data"
    }
   ],
   "source": [
    "data = run_query(\"\"\"\n",
    "MATCH (t:Tag)<-[:HAS_TAG]-()-[:HAS_SECTION]->()-[:HAS_ENTITY]->(entity:Business)-[:PART_OF_INDUSTRY]->(industry)\n",
    "WHERE t.name = \"Stock Market\"\n",
    "RETURN industry.name as industry, count(*) as mentions\n",
    "ORDER BY mentions DESC\n",
    "LIMIT 10\n",
    "\"\"\")\n",
    "\n",
    "fig, ax = pyplot.subplots(figsize=(16,9))\n",
    "ax = sns.barplot(x=\"industry\", y=\"mentions\", data=data, color=\"blue\")\n",
    "ax.set_xticklabels(ax.get_xticklabels(), rotation=30)\n"
   ]
  },
  {
   "cell_type": "code",
   "execution_count": 18,
   "metadata": {},
   "outputs": [
    {
     "data": {
      "text/plain": [
       "[Text(0, 0, 'GameStop'),\n",
       " Text(0, 0, 'Amazon (company)'),\n",
       " Text(0, 0, 'Elon Musk'),\n",
       " Text(0, 0, 'Alexandria Ocasio-Cortez'),\n",
       " Text(0, 0, 'Jim Cramer'),\n",
       " Text(0, 0, 'Rashida Tlaib'),\n",
       " Text(0, 0, 'Tesla, Inc.'),\n",
       " Text(0, 0, 'Ted Cruz'),\n",
       " Text(0, 0, 'Nokia'),\n",
       " Text(0, 0, 'Etsy')]"
      ]
     },
     "execution_count": 18,
     "metadata": {},
     "output_type": "execute_result"
    },
    {
     "data": {
      "image/png": "[encoded data removed]",
      "text/plain": [
       "<Figure size 1152x648 with 1 Axes>"
      ]
     },
     "metadata": {
      "needs_background": "light"
     },
     "output_type": "display_data"
    }
   ],
   "source": [
    "data = run_query(\"\"\"\n",
    "MATCH (t:Tag)<-[:HAS_TAG]-()-[:HAS_SECTION]->()-[:HAS_ENTITY]->(entity)\n",
    "WHERE t.name = \"Stock Market\" AND (entity:Person OR entity:Business)\n",
    "RETURN entity.title as entity, count(*) as mentions\n",
    "ORDER BY mentions DESC\n",
    "LIMIT 10\n",
    "\"\"\")\n",
    "\n",
    "fig, ax = pyplot.subplots(figsize=(16,9))\n",
    "ax = sns.barplot(x=\"entity\", y=\"mentions\", data=data, color=\"blue\")\n",
    "ax.set_xticklabels(ax.get_xticklabels(), rotation=30)"
   ]
  },
  {
   "cell_type": "code",
   "execution_count": 19,
   "metadata": {},
   "outputs": [
    {
     "data": {
      "image/png": "[encoded data removed]",
      "text/plain": [
       "<Figure size 1152x648 with 1 Axes>"
      ]
     },
     "metadata": {
      "needs_background": "light"
     },
     "output_type": "display_data"
    }
   ],
   "source": [
    "data = run_query(\"\"\"\n",
    "MATCH (b:Business{title:\"GameStop\"})<-[:HAS_ENTITY]-()-[:HAS_ENTITY]->(other_entity)\n",
    "RETURN other_entity.title as entity, count(*) as mentions\n",
    "ORDER BY mentions DESC\n",
    "LIMIT 10\n",
    "\"\"\")\n",
    "\n",
    "fig, ax = pyplot.subplots(figsize=(16,9))\n",
    "ax = sns.barplot(x=\"entity\", y=\"mentions\", data=data, color=\"blue\")\n",
    "\n"
   ]
  },
  {
   "cell_type": "code",
   "execution_count": 20,
   "metadata": {},
   "outputs": [
    {
     "data": {
      "image/png": "[encoded data removed]",
      "text/plain": [
       "<Figure size 1152x648 with 1 Axes>"
      ]
     },
     "metadata": {
      "needs_background": "light"
     },
     "output_type": "display_data"
    }
   ],
   "source": [
    "data = run_query(\"\"\"\n",
    "MATCH (b:Business{title:\"GameStop\"})<-[:HAS_ENTITY]-()-[:HAS_ENTITY]->(other_entity:Person)\n",
    "RETURN other_entity.title as entity, count(*) as mentions\n",
    "ORDER BY mentions DESC\n",
    "LIMIT 10\n",
    "\"\"\")\n",
    "\n",
    "fig, ax = pyplot.subplots(figsize=(16,9))\n",
    "ax = sns.barplot(x=\"entity\", y=\"mentions\", data=data, color=\"blue\")"
   ]
  },
  {
   "cell_type": "code",
   "execution_count": 23,
   "metadata": {},
   "outputs": [],
   "source": [
    "d = run_query(\"\"\"\n",
    "MATCH (b:Business{title:\"GameStop\"})<-[:HAS_ENTITY]-(section)-[:HAS_ENTITY]->(p:Person{title:\"Elon Musk\"})\n",
    "RETURN section.text as text\n",
    "\"\"\")"
   ]
  },
  {
   "cell_type": "code",
   "execution_count": 28,
   "metadata": {},
   "outputs": [
    {
     "data": {
      "text/plain": [
       "\"The current low point for GameStop's stock is just the latest among twists and tales that have come to make up a crazy story. And aside from Cuban, other celebrities have gotten involved, including by Tesla CEO Elon Musk and CNBC financial commentator and former hedge fund manager Jim Cramer. There's even Michael Burry, one of the subjects of the book and movie The Big Short, who happens to be a prominent investor in GameStop.\""
      ]
     },
     "execution_count": 28,
     "metadata": {},
     "output_type": "execute_result"
    }
   ],
   "source": [
    "d['text'][1]"
   ]
  },
  {
   "cell_type": "code",
   "execution_count": 29,
   "metadata": {},
   "outputs": [
    {
     "data": {
      "text/html": [
       "<div>\n",
       "<style scoped>\n",
       "    .dataframe tbody tr th:only-of-type {\n",
       "        vertical-align: middle;\n",
       "    }\n",
       "\n",
       "    .dataframe tbody tr th {\n",
       "        vertical-align: top;\n",
       "    }\n",
       "\n",
       "    .dataframe thead th {\n",
       "        text-align: right;\n",
       "    }\n",
       "</style>\n",
       "<table border=\"1\" class=\"dataframe\">\n",
       "  <thead>\n",
       "    <tr style=\"text-align: right;\">\n",
       "      <th></th>\n",
       "    </tr>\n",
       "  </thead>\n",
       "  <tbody>\n",
       "  </tbody>\n",
       "</table>\n",
       "</div>"
      ],
      "text/plain": [
       "Empty DataFrame\n",
       "Columns: []\n",
       "Index: []"
      ]
     },
     "execution_count": 29,
     "metadata": {},
     "output_type": "execute_result"
    }
   ],
   "source": [
    "run_query(\"\"\"\n",
    "MATCH (s:Person)<-[:HAS_ENTITY]-()-[:HAS_ENTITY]->(t:Person)\n",
    "WHERE id(s) < id(t)\n",
    "WITH s,t, count(*) as weight\n",
    "MERGE (s)-[c:CO_OCCURENCE]-(t)\n",
    "SET c.weight = weight\n",
    "\"\"\")"
   ]
  },
  {
   "cell_type": "code",
   "execution_count": 31,
   "metadata": {},
   "outputs": [],
   "source": [
    "d = run_query(\"\"\"\n",
    "CALL gds.wcc.write({\n",
    "    nodeProjection:'Person',\n",
    "    relationshipProjection:'CO_OCCURENCE',\n",
    "    writeProperty:'wcc'})\n",
    "YIELD componentCount, componentDistribution\n",
    "\"\"\")"
   ]
  },
  {
   "cell_type": "code",
   "execution_count": 35,
   "metadata": {},
   "outputs": [
    {
     "data": {
      "text/plain": [
       "Index(['componentCount', 'componentDistribution'], dtype='object')"
      ]
     },
     "execution_count": 35,
     "metadata": {},
     "output_type": "execute_result"
    }
   ],
   "source": [
    "d.columns"
   ]
  },
  {
   "cell_type": "code",
   "execution_count": null,
   "metadata": {},
   "outputs": [],
   "source": []
  }
 ],
 "metadata": {
  "kernelspec": {
   "display_name": "Python 3",
   "language": "python",
   "name": "python3"
  },
  "language_info": {
   "codemirror_mode": {
    "name": "ipython",
    "version": 3
   },
   "file_extension": ".py",
   "mimetype": "text/x-python",
   "name": "python",
   "nbconvert_exporter": "python",
   "pygments_lexer": "ipython3",
   "version": "3.7.4"
  }
 },
 "nbformat": 4,
 "nbformat_minor": 4
}
